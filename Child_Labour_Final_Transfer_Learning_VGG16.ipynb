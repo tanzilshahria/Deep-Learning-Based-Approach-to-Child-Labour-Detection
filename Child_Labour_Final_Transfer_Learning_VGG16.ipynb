{
 "cells": [
  {
   "cell_type": "markdown",
   "metadata": {
    "id": "Hd2ap-dPqNOF"
   },
   "source": [
    "Transfer Learning VGG16"
   ]
  },
  {
   "cell_type": "code",
   "execution_count": null,
   "metadata": {
    "colab": {
     "base_uri": "https://localhost:8080/",
     "height": 128
    },
    "id": "jOZg5477t3-u",
    "outputId": "1dd43d4a-32b1-49bc-dbae-1760fa869171"
   },
   "outputs": [
    {
     "name": "stdout",
     "output_type": "stream",
     "text": [
      "TensorFlow version: 2.2.0\n",
      "WARNING:tensorflow:From <ipython-input-1-baeee846c934>:12: is_gpu_available (from tensorflow.python.framework.test_util) is deprecated and will be removed in a future version.\n",
      "Instructions for updating:\n",
      "Use `tf.config.list_physical_devices('GPU')` instead.\n",
      "Is using GPU? True\n"
     ]
    }
   ],
   "source": [
    "import tensorflow as tf\n",
    "import os\n",
    "import numpy as np\n",
    "\n",
    "from matplotlib import pyplot as plt\n",
    "%matplotlib inline\n",
    "\n",
    "if not os.path.isdir('models'):\n",
    "    os.mkdir('models')\n",
    "    \n",
    "print('TensorFlow version:', tf.__version__)\n",
    "print('Is using GPU?', tf.test.is_gpu_available())"
   ]
  },
  {
   "cell_type": "code",
   "execution_count": null,
   "metadata": {
    "colab": {
     "base_uri": "https://localhost:8080/",
     "height": 35
    },
    "id": "-H52nMTnt30F",
    "outputId": "f61c884b-39a9-4ba0-af12-a8048d22da63"
   },
   "outputs": [
    {
     "name": "stderr",
     "output_type": "stream",
     "text": [
      "Using TensorFlow backend.\n"
     ]
    }
   ],
   "source": [
    "import cv2\n",
    "import keras\n",
    "from keras.models import Sequential\n",
    "from keras.applications.vgg16 import VGG16\n",
    "from keras.layers import Dense, InputLayer, Dropout, Flatten\n",
    "from keras.layers import Conv2D, MaxPooling2D, GlobalMaxPooling2D\n",
    "from keras.preprocessing import image\n",
    "import numpy as np\n",
    "import pandas as pd\n",
    "import matplotlib.pyplot as plt\n",
    "from tqdm import tqdm\n",
    "from sklearn.model_selection import train_test_split"
   ]
  },
  {
   "cell_type": "code",
   "execution_count": null,
   "metadata": {
    "colab": {
     "base_uri": "https://localhost:8080/",
     "height": 206
    },
    "id": "ifFo0W-lucGY",
    "outputId": "66b2d7f7-4ae2-45f4-ff15-a9f3aa6035aa"
   },
   "outputs": [
    {
     "data": {
      "text/html": [
       "<div>\n",
       "<style scoped>\n",
       "    .dataframe tbody tr th:only-of-type {\n",
       "        vertical-align: middle;\n",
       "    }\n",
       "\n",
       "    .dataframe tbody tr th {\n",
       "        vertical-align: top;\n",
       "    }\n",
       "\n",
       "    .dataframe thead th {\n",
       "        text-align: right;\n",
       "    }\n",
       "</style>\n",
       "<table border=\"1\" class=\"dataframe\">\n",
       "  <thead>\n",
       "    <tr style=\"text-align: right;\">\n",
       "      <th></th>\n",
       "      <th>image</th>\n",
       "      <th>class</th>\n",
       "    </tr>\n",
       "  </thead>\n",
       "  <tbody>\n",
       "    <tr>\n",
       "      <th>0</th>\n",
       "      <td>Child_p55.mp4_frame20.jpg</td>\n",
       "      <td>1</td>\n",
       "    </tr>\n",
       "    <tr>\n",
       "      <th>1</th>\n",
       "      <td>Child_a36.mp4_frame24.jpg</td>\n",
       "      <td>1</td>\n",
       "    </tr>\n",
       "    <tr>\n",
       "      <th>2</th>\n",
       "      <td>Child_a49.mp4_frame19.jpg</td>\n",
       "      <td>1</td>\n",
       "    </tr>\n",
       "    <tr>\n",
       "      <th>3</th>\n",
       "      <td>Adult_a33.mp4_frame3.jpg</td>\n",
       "      <td>0</td>\n",
       "    </tr>\n",
       "    <tr>\n",
       "      <th>4</th>\n",
       "      <td>Adult_p47.mp4_frame35.jpg</td>\n",
       "      <td>0</td>\n",
       "    </tr>\n",
       "  </tbody>\n",
       "</table>\n",
       "</div>"
      ],
      "text/plain": [
       "                       image  class\n",
       "0  Child_p55.mp4_frame20.jpg      1\n",
       "1  Child_a36.mp4_frame24.jpg      1\n",
       "2  Child_a49.mp4_frame19.jpg      1\n",
       "3   Adult_a33.mp4_frame3.jpg      0\n",
       "4  Adult_p47.mp4_frame35.jpg      0"
      ]
     },
     "execution_count": 3,
     "metadata": {
      "tags": []
     },
     "output_type": "execute_result"
    }
   ],
   "source": [
    "train = pd.read_csv('Data/train_new.csv')\n",
    "train.head()"
   ]
  },
  {
   "cell_type": "code",
   "execution_count": null,
   "metadata": {
    "colab": {
     "base_uri": "https://localhost:8080/",
     "height": 53
    },
    "id": "BC3u4aVPucLE",
    "outputId": "2e8c88e1-d105-4c9e-f4ff-1f3bd3e5a8f2"
   },
   "outputs": [
    {
     "name": "stderr",
     "output_type": "stream",
     "text": [
      "100%|██████████| 7820/7820 [02:56<00:00, 44.39it/s]\n"
     ]
    },
    {
     "data": {
      "text/plain": [
       "(7820, 224, 224, 3)"
      ]
     },
     "execution_count": 4,
     "metadata": {
      "tags": []
     },
     "output_type": "execute_result"
    }
   ],
   "source": [
    "# creating an empty list\n",
    "train_image = []\n",
    "\n",
    "# for loop to read and store frames\n",
    "for i in tqdm(range(train.shape[0])):\n",
    "    # loading the image and keeping the target size as (224,224,3)\n",
    "    img = image.load_img('train/'+train['image'][i], target_size=(224,224,3))\n",
    "    # converting it to array\n",
    "    img = image.img_to_array(img)\n",
    "    # normalizing the pixel value\n",
    "    img = img/255.0\n",
    "    # appending the image to the train_image list\n",
    "    train_image.append(img)\n",
    "    \n",
    "# converting the list to numpy array\n",
    "X = np.array(train_image)\n",
    "\n",
    "# shape of the array\n",
    "X.shape"
   ]
  },
  {
   "cell_type": "code",
   "execution_count": null,
   "metadata": {
    "id": "CKJisKKVucOZ"
   },
   "outputs": [],
   "source": [
    "# separating the target\n",
    "y = train['class']\n",
    "\n",
    "# creating the training and validation set\n",
    "X_train, X_test, y_train, y_test = train_test_split(X, y, random_state=42, test_size=0.2, stratify = y)"
   ]
  },
  {
   "cell_type": "code",
   "execution_count": null,
   "metadata": {
    "id": "RwqlNVB7ucKE"
   },
   "outputs": [],
   "source": [
    "# creating dummies of target variable for train and validation set\n",
    "y_train = pd.get_dummies(y_train)\n",
    "y_test = pd.get_dummies(y_test)"
   ]
  },
  {
   "cell_type": "code",
   "execution_count": null,
   "metadata": {
    "id": "O-ZZvaKmucFK"
   },
   "outputs": [],
   "source": [
    "# creating the base model of pre-trained VGG16 model\n",
    "base_model = VGG16(weights='imagenet', include_top=False)"
   ]
  },
  {
   "cell_type": "code",
   "execution_count": null,
   "metadata": {
    "colab": {
     "base_uri": "https://localhost:8080/",
     "height": 35
    },
    "id": "tYj-VnF7yix9",
    "outputId": "62ae03e9-15ae-4078-9b85-2504f1db396f"
   },
   "outputs": [
    {
     "data": {
      "text/plain": [
       "(6256, 7, 7, 512)"
      ]
     },
     "execution_count": 8,
     "metadata": {
      "tags": []
     },
     "output_type": "execute_result"
    }
   ],
   "source": [
    "# extracting features for training frames\n",
    "X_train = base_model.predict(X_train)\n",
    "X_train.shape"
   ]
  },
  {
   "cell_type": "code",
   "execution_count": null,
   "metadata": {
    "colab": {
     "base_uri": "https://localhost:8080/",
     "height": 35
    },
    "id": "0yBdyqbnyriV",
    "outputId": "0efa5f12-c43c-424a-c830-53fbe53a53ff"
   },
   "outputs": [
    {
     "data": {
      "text/plain": [
       "(1564, 7, 7, 512)"
      ]
     },
     "execution_count": 9,
     "metadata": {
      "tags": []
     },
     "output_type": "execute_result"
    }
   ],
   "source": [
    "# extracting features for validation frames\n",
    "X_test = base_model.predict(X_test)\n",
    "X_test.shape"
   ]
  },
  {
   "cell_type": "code",
   "execution_count": null,
   "metadata": {
    "id": "kzTJP6Tyy8ml"
   },
   "outputs": [],
   "source": [
    "# reshaping the training as well as validation frames in single dimension\n",
    "X_train = X_train.reshape(6256, 7*7*512)\n",
    "X_test = X_test.reshape(1564, 7*7*512)"
   ]
  },
  {
   "cell_type": "code",
   "execution_count": null,
   "metadata": {
    "id": "c-1UTZeCzN5m"
   },
   "outputs": [],
   "source": [
    "# normalizing the pixel values\n",
    "max = X_train.max()\n",
    "X_train = X_train/max\n",
    "X_test = X_test/max"
   ]
  },
  {
   "cell_type": "code",
   "execution_count": null,
   "metadata": {
    "colab": {
     "base_uri": "https://localhost:8080/",
     "height": 35
    },
    "id": "elIuIR_2zTAO",
    "outputId": "60ef8b68-b737-4071-a68e-1079159c8072"
   },
   "outputs": [
    {
     "data": {
      "text/plain": [
       "(6256, 25088)"
      ]
     },
     "execution_count": 12,
     "metadata": {
      "tags": []
     },
     "output_type": "execute_result"
    }
   ],
   "source": [
    "X_train.shape"
   ]
  },
  {
   "cell_type": "code",
   "execution_count": null,
   "metadata": {
    "id": "19LK5UmLzVeX"
   },
   "outputs": [],
   "source": [
    "#defining the model architecture\n",
    "model = Sequential()\n",
    "model.add(Dense(1024, activation='relu', input_shape=(25088,)))\n",
    "model.add(Dropout(0.5))\n",
    "model.add(Dense(512, activation='relu'))\n",
    "model.add(Dropout(0.5))\n",
    "model.add(Dense(256, activation='relu'))\n",
    "model.add(Dropout(0.5))\n",
    "model.add(Dense(128, activation='relu'))\n",
    "model.add(Dropout(0.5))\n",
    "model.add(Dense(2, activation='softmax'))"
   ]
  },
  {
   "cell_type": "code",
   "execution_count": null,
   "metadata": {
    "id": "QAlyRR5Qza1E"
   },
   "outputs": [],
   "source": [
    "from keras.callbacks import ModelCheckpoint\n",
    "mcp_save = ModelCheckpoint('weight.hdf5', save_best_only=True, monitor='val_loss', mode='min')"
   ]
  },
  {
   "cell_type": "code",
   "execution_count": null,
   "metadata": {
    "colab": {
     "base_uri": "https://localhost:8080/",
     "height": 489
    },
    "id": "6UbrRtrpziQy",
    "outputId": "ed12730d-a7a7-49d7-d920-06fc0d8f0691"
   },
   "outputs": [
    {
     "name": "stdout",
     "output_type": "stream",
     "text": [
      "Model: \"sequential_1\"\n",
      "_________________________________________________________________\n",
      "Layer (type)                 Output Shape              Param #   \n",
      "=================================================================\n",
      "dense_1 (Dense)              (None, 1024)              25691136  \n",
      "_________________________________________________________________\n",
      "dropout_1 (Dropout)          (None, 1024)              0         \n",
      "_________________________________________________________________\n",
      "dense_2 (Dense)              (None, 512)               524800    \n",
      "_________________________________________________________________\n",
      "dropout_2 (Dropout)          (None, 512)               0         \n",
      "_________________________________________________________________\n",
      "dense_3 (Dense)              (None, 256)               131328    \n",
      "_________________________________________________________________\n",
      "dropout_3 (Dropout)          (None, 256)               0         \n",
      "_________________________________________________________________\n",
      "dense_4 (Dense)              (None, 128)               32896     \n",
      "_________________________________________________________________\n",
      "dropout_4 (Dropout)          (None, 128)               0         \n",
      "_________________________________________________________________\n",
      "dense_5 (Dense)              (None, 2)                 258       \n",
      "=================================================================\n",
      "Total params: 26,380,418\n",
      "Trainable params: 26,380,418\n",
      "Non-trainable params: 0\n",
      "_________________________________________________________________\n"
     ]
    }
   ],
   "source": [
    "# compiling the model\n",
    "model.compile(loss='categorical_crossentropy',optimizer='Adam',metrics=['accuracy'])\n",
    "model.summary()"
   ]
  },
  {
   "cell_type": "code",
   "execution_count": null,
   "metadata": {
    "colab": {
     "base_uri": "https://localhost:8080/",
     "height": 1000
    },
    "id": "qvTUIPC1z1MB",
    "outputId": "a443f2cd-13b6-489d-a4a4-c5b0ef61fc47"
   },
   "outputs": [
    {
     "name": "stdout",
     "output_type": "stream",
     "text": [
      "Train on 6256 samples, validate on 1564 samples\n",
      "Epoch 1/200\n",
      "6256/6256 [==============================] - 1s 206us/step - loss: 0.6366 - accuracy: 0.6266 - val_loss: 0.3193 - val_accuracy: 0.8708\n",
      "Epoch 2/200\n",
      "6256/6256 [==============================] - 1s 170us/step - loss: 0.2375 - accuracy: 0.9035 - val_loss: 0.0828 - val_accuracy: 0.9699\n",
      "Epoch 3/200\n",
      "6256/6256 [==============================] - 1s 168us/step - loss: 0.1086 - accuracy: 0.9604 - val_loss: 0.1007 - val_accuracy: 0.9604\n",
      "Epoch 4/200\n",
      "6256/6256 [==============================] - 1s 168us/step - loss: 0.0486 - accuracy: 0.9837 - val_loss: 0.0374 - val_accuracy: 0.9885\n",
      "Epoch 5/200\n",
      "6256/6256 [==============================] - 1s 169us/step - loss: 0.0358 - accuracy: 0.9872 - val_loss: 0.0537 - val_accuracy: 0.9834\n",
      "Epoch 6/200\n",
      "6256/6256 [==============================] - 1s 167us/step - loss: 0.0306 - accuracy: 0.9883 - val_loss: 0.0226 - val_accuracy: 0.9930\n",
      "Epoch 7/200\n",
      "6256/6256 [==============================] - 1s 166us/step - loss: 0.0270 - accuracy: 0.9910 - val_loss: 0.0265 - val_accuracy: 0.9910\n",
      "Epoch 8/200\n",
      "6256/6256 [==============================] - 1s 170us/step - loss: 0.0340 - accuracy: 0.9851 - val_loss: 0.0272 - val_accuracy: 0.9930\n",
      "Epoch 9/200\n",
      "6256/6256 [==============================] - 1s 173us/step - loss: 0.0217 - accuracy: 0.9920 - val_loss: 0.0331 - val_accuracy: 0.9904\n",
      "Epoch 10/200\n",
      "6256/6256 [==============================] - 1s 173us/step - loss: 0.0153 - accuracy: 0.9947 - val_loss: 0.0215 - val_accuracy: 0.9936\n",
      "Epoch 11/200\n",
      "6256/6256 [==============================] - 1s 176us/step - loss: 0.0194 - accuracy: 0.9923 - val_loss: 0.0221 - val_accuracy: 0.9917\n",
      "Epoch 12/200\n",
      "6256/6256 [==============================] - 1s 171us/step - loss: 0.0146 - accuracy: 0.9949 - val_loss: 0.0225 - val_accuracy: 0.9936\n",
      "Epoch 13/200\n",
      "6256/6256 [==============================] - 1s 167us/step - loss: 0.0087 - accuracy: 0.9963 - val_loss: 0.0232 - val_accuracy: 0.9936\n",
      "Epoch 14/200\n",
      "6256/6256 [==============================] - 1s 168us/step - loss: 0.0314 - accuracy: 0.9893 - val_loss: 0.0229 - val_accuracy: 0.9923\n",
      "Epoch 15/200\n",
      "6256/6256 [==============================] - 1s 167us/step - loss: 0.0252 - accuracy: 0.9902 - val_loss: 0.0179 - val_accuracy: 0.9936\n",
      "Epoch 16/200\n",
      "6256/6256 [==============================] - 1s 171us/step - loss: 0.0120 - accuracy: 0.9946 - val_loss: 0.0333 - val_accuracy: 0.9885\n",
      "Epoch 17/200\n",
      "6256/6256 [==============================] - 1s 172us/step - loss: 0.0092 - accuracy: 0.9954 - val_loss: 0.0352 - val_accuracy: 0.9910\n",
      "Epoch 18/200\n",
      "6256/6256 [==============================] - 1s 171us/step - loss: 0.0101 - accuracy: 0.9963 - val_loss: 0.0390 - val_accuracy: 0.9872\n",
      "Epoch 19/200\n",
      "6256/6256 [==============================] - 1s 171us/step - loss: 0.0257 - accuracy: 0.9902 - val_loss: 0.0268 - val_accuracy: 0.9917\n",
      "Epoch 20/200\n",
      "6256/6256 [==============================] - 1s 171us/step - loss: 0.0202 - accuracy: 0.9925 - val_loss: 0.0244 - val_accuracy: 0.9904\n",
      "Epoch 21/200\n",
      "6256/6256 [==============================] - 1s 172us/step - loss: 0.0188 - accuracy: 0.9917 - val_loss: 0.0167 - val_accuracy: 0.9930\n",
      "Epoch 22/200\n",
      "6256/6256 [==============================] - 1s 171us/step - loss: 0.0176 - accuracy: 0.9931 - val_loss: 0.0142 - val_accuracy: 0.9949\n",
      "Epoch 23/200\n",
      "6256/6256 [==============================] - 1s 173us/step - loss: 0.0195 - accuracy: 0.9925 - val_loss: 0.0144 - val_accuracy: 0.9936\n",
      "Epoch 24/200\n",
      "6256/6256 [==============================] - 1s 175us/step - loss: 0.0215 - accuracy: 0.9917 - val_loss: 0.0393 - val_accuracy: 0.9898\n",
      "Epoch 25/200\n",
      "6256/6256 [==============================] - 1s 173us/step - loss: 0.0189 - accuracy: 0.9917 - val_loss: 0.0255 - val_accuracy: 0.9910\n",
      "Epoch 26/200\n",
      "6256/6256 [==============================] - 1s 172us/step - loss: 0.0142 - accuracy: 0.9936 - val_loss: 0.0489 - val_accuracy: 0.9917\n",
      "Epoch 27/200\n",
      "6256/6256 [==============================] - 1s 173us/step - loss: 0.0159 - accuracy: 0.9931 - val_loss: 0.0311 - val_accuracy: 0.9936\n",
      "Epoch 28/200\n",
      "6256/6256 [==============================] - 1s 171us/step - loss: 0.0220 - accuracy: 0.9918 - val_loss: 0.0337 - val_accuracy: 0.9859\n",
      "Epoch 29/200\n",
      "6256/6256 [==============================] - 1s 173us/step - loss: 0.0166 - accuracy: 0.9926 - val_loss: 0.0223 - val_accuracy: 0.9930\n",
      "Epoch 30/200\n",
      "6256/6256 [==============================] - 1s 172us/step - loss: 0.0142 - accuracy: 0.9941 - val_loss: 0.0227 - val_accuracy: 0.9949\n",
      "Epoch 31/200\n",
      "6256/6256 [==============================] - 1s 173us/step - loss: 0.0133 - accuracy: 0.9934 - val_loss: 0.0193 - val_accuracy: 0.9910\n",
      "Epoch 32/200\n",
      "6256/6256 [==============================] - 1s 171us/step - loss: 0.0112 - accuracy: 0.9950 - val_loss: 0.0255 - val_accuracy: 0.9942\n",
      "Epoch 33/200\n",
      "6256/6256 [==============================] - 1s 172us/step - loss: 0.0123 - accuracy: 0.9938 - val_loss: 0.0160 - val_accuracy: 0.9955\n",
      "Epoch 34/200\n",
      "6256/6256 [==============================] - 1s 174us/step - loss: 0.0107 - accuracy: 0.9950 - val_loss: 0.0177 - val_accuracy: 0.9955\n",
      "Epoch 35/200\n",
      "6256/6256 [==============================] - 1s 172us/step - loss: 0.0128 - accuracy: 0.9941 - val_loss: 0.0345 - val_accuracy: 0.9930\n",
      "Epoch 36/200\n",
      "6256/6256 [==============================] - 1s 172us/step - loss: 0.0297 - accuracy: 0.9898 - val_loss: 0.0150 - val_accuracy: 0.9930\n",
      "Epoch 37/200\n",
      "6256/6256 [==============================] - 1s 172us/step - loss: 0.0123 - accuracy: 0.9938 - val_loss: 0.0213 - val_accuracy: 0.9917\n",
      "Epoch 38/200\n",
      "6256/6256 [==============================] - 1s 171us/step - loss: 0.0100 - accuracy: 0.9954 - val_loss: 0.0259 - val_accuracy: 0.9917\n",
      "Epoch 39/200\n",
      "6256/6256 [==============================] - 1s 175us/step - loss: 0.0076 - accuracy: 0.9957 - val_loss: 0.0263 - val_accuracy: 0.9930\n",
      "Epoch 40/200\n",
      "6256/6256 [==============================] - 1s 172us/step - loss: 0.0075 - accuracy: 0.9968 - val_loss: 0.0214 - val_accuracy: 0.9942\n",
      "Epoch 41/200\n",
      "6256/6256 [==============================] - 1s 173us/step - loss: 0.0099 - accuracy: 0.9954 - val_loss: 0.0336 - val_accuracy: 0.9930\n",
      "Epoch 42/200\n",
      "6256/6256 [==============================] - 1s 171us/step - loss: 0.0203 - accuracy: 0.9918 - val_loss: 0.0158 - val_accuracy: 0.9936\n",
      "Epoch 43/200\n",
      "6256/6256 [==============================] - 1s 173us/step - loss: 0.0099 - accuracy: 0.9954 - val_loss: 0.0277 - val_accuracy: 0.9936\n",
      "Epoch 44/200\n",
      "6256/6256 [==============================] - 1s 172us/step - loss: 0.0184 - accuracy: 0.9930 - val_loss: 0.0198 - val_accuracy: 0.9936\n",
      "Epoch 45/200\n",
      "6256/6256 [==============================] - 1s 172us/step - loss: 0.0099 - accuracy: 0.9954 - val_loss: 0.0246 - val_accuracy: 0.9930\n",
      "Epoch 46/200\n",
      "6256/6256 [==============================] - 1s 172us/step - loss: 0.0111 - accuracy: 0.9949 - val_loss: 0.0200 - val_accuracy: 0.9942\n",
      "Epoch 47/200\n",
      "6256/6256 [==============================] - 1s 170us/step - loss: 0.0140 - accuracy: 0.9942 - val_loss: 0.0152 - val_accuracy: 0.9936\n",
      "Epoch 48/200\n",
      "6256/6256 [==============================] - 1s 173us/step - loss: 0.0226 - accuracy: 0.9910 - val_loss: 0.0182 - val_accuracy: 0.9930\n",
      "Epoch 49/200\n",
      "6256/6256 [==============================] - 1s 173us/step - loss: 0.0104 - accuracy: 0.9955 - val_loss: 0.0142 - val_accuracy: 0.9949\n",
      "Epoch 50/200\n",
      "6256/6256 [==============================] - 1s 172us/step - loss: 0.0118 - accuracy: 0.9947 - val_loss: 0.0179 - val_accuracy: 0.9949\n",
      "Epoch 51/200\n",
      "6256/6256 [==============================] - 1s 172us/step - loss: 0.0109 - accuracy: 0.9946 - val_loss: 0.0160 - val_accuracy: 0.9942\n",
      "Epoch 52/200\n",
      "6256/6256 [==============================] - 1s 172us/step - loss: 0.0118 - accuracy: 0.9947 - val_loss: 0.0144 - val_accuracy: 0.9942\n",
      "Epoch 53/200\n",
      "6256/6256 [==============================] - 1s 174us/step - loss: 0.0084 - accuracy: 0.9954 - val_loss: 0.0158 - val_accuracy: 0.9936\n",
      "Epoch 54/200\n",
      "6256/6256 [==============================] - 1s 173us/step - loss: 0.0100 - accuracy: 0.9950 - val_loss: 0.0188 - val_accuracy: 0.9942\n",
      "Epoch 55/200\n",
      "6256/6256 [==============================] - 1s 174us/step - loss: 0.0162 - accuracy: 0.9925 - val_loss: 0.0165 - val_accuracy: 0.9955\n",
      "Epoch 56/200\n",
      "6256/6256 [==============================] - 1s 172us/step - loss: 0.0173 - accuracy: 0.9934 - val_loss: 0.0274 - val_accuracy: 0.9949\n",
      "Epoch 57/200\n",
      "6256/6256 [==============================] - 1s 172us/step - loss: 0.0102 - accuracy: 0.9955 - val_loss: 0.0173 - val_accuracy: 0.9942\n",
      "Epoch 58/200\n",
      "6256/6256 [==============================] - 1s 173us/step - loss: 0.0109 - accuracy: 0.9941 - val_loss: 0.0191 - val_accuracy: 0.9949\n",
      "Epoch 59/200\n",
      "6256/6256 [==============================] - 1s 172us/step - loss: 0.0111 - accuracy: 0.9949 - val_loss: 0.0200 - val_accuracy: 0.9923\n",
      "Epoch 60/200\n",
      "6256/6256 [==============================] - 1s 173us/step - loss: 0.0096 - accuracy: 0.9954 - val_loss: 0.0166 - val_accuracy: 0.9955\n",
      "Epoch 61/200\n",
      "6256/6256 [==============================] - 1s 173us/step - loss: 0.0288 - accuracy: 0.9895 - val_loss: 0.0298 - val_accuracy: 0.9930\n",
      "Epoch 62/200\n",
      "6256/6256 [==============================] - 1s 173us/step - loss: 0.0166 - accuracy: 0.9934 - val_loss: 0.0241 - val_accuracy: 0.9942\n",
      "Epoch 63/200\n",
      "6256/6256 [==============================] - 1s 171us/step - loss: 0.0108 - accuracy: 0.9947 - val_loss: 0.0215 - val_accuracy: 0.9930\n",
      "Epoch 64/200\n",
      "6256/6256 [==============================] - 1s 172us/step - loss: 0.0125 - accuracy: 0.9939 - val_loss: 0.0393 - val_accuracy: 0.9904\n",
      "Epoch 65/200\n",
      "6256/6256 [==============================] - 1s 172us/step - loss: 0.0078 - accuracy: 0.9958 - val_loss: 0.0365 - val_accuracy: 0.9930\n",
      "Epoch 66/200\n",
      "6256/6256 [==============================] - 1s 173us/step - loss: 0.0154 - accuracy: 0.9938 - val_loss: 0.0220 - val_accuracy: 0.9936\n",
      "Epoch 67/200\n",
      "6256/6256 [==============================] - 1s 173us/step - loss: 0.0121 - accuracy: 0.9941 - val_loss: 0.0333 - val_accuracy: 0.9917\n",
      "Epoch 68/200\n",
      "6256/6256 [==============================] - 1s 174us/step - loss: 0.0115 - accuracy: 0.9957 - val_loss: 0.0291 - val_accuracy: 0.9930\n",
      "Epoch 69/200\n",
      "6256/6256 [==============================] - 1s 174us/step - loss: 0.0123 - accuracy: 0.9942 - val_loss: 0.0261 - val_accuracy: 0.9930\n",
      "Epoch 70/200\n",
      "6256/6256 [==============================] - 1s 172us/step - loss: 0.0128 - accuracy: 0.9939 - val_loss: 0.0169 - val_accuracy: 0.9949\n",
      "Epoch 71/200\n",
      "6256/6256 [==============================] - 1s 172us/step - loss: 0.0112 - accuracy: 0.9942 - val_loss: 0.0272 - val_accuracy: 0.9923\n",
      "Epoch 72/200\n",
      "6256/6256 [==============================] - 1s 171us/step - loss: 0.0150 - accuracy: 0.9950 - val_loss: 0.0219 - val_accuracy: 0.9910\n",
      "Epoch 73/200\n",
      "6256/6256 [==============================] - 1s 174us/step - loss: 0.0133 - accuracy: 0.9942 - val_loss: 0.0287 - val_accuracy: 0.9917\n",
      "Epoch 74/200\n",
      "6256/6256 [==============================] - 1s 172us/step - loss: 0.0101 - accuracy: 0.9949 - val_loss: 0.0387 - val_accuracy: 0.9904\n",
      "Epoch 75/200\n",
      "6256/6256 [==============================] - 1s 174us/step - loss: 0.0100 - accuracy: 0.9939 - val_loss: 0.0299 - val_accuracy: 0.9936\n",
      "Epoch 76/200\n",
      "6256/6256 [==============================] - 1s 173us/step - loss: 0.0101 - accuracy: 0.9942 - val_loss: 0.0296 - val_accuracy: 0.9930\n",
      "Epoch 77/200\n",
      "6256/6256 [==============================] - 1s 173us/step - loss: 0.0107 - accuracy: 0.9954 - val_loss: 0.0196 - val_accuracy: 0.9942\n",
      "Epoch 78/200\n",
      "6256/6256 [==============================] - 1s 173us/step - loss: 0.0134 - accuracy: 0.9944 - val_loss: 0.0274 - val_accuracy: 0.9930\n",
      "Epoch 79/200\n",
      "6256/6256 [==============================] - 1s 172us/step - loss: 0.0091 - accuracy: 0.9957 - val_loss: 0.0305 - val_accuracy: 0.9904\n",
      "Epoch 80/200\n",
      "6256/6256 [==============================] - 1s 173us/step - loss: 0.0057 - accuracy: 0.9970 - val_loss: 0.0345 - val_accuracy: 0.9923\n",
      "Epoch 81/200\n",
      "6256/6256 [==============================] - 1s 172us/step - loss: 0.0130 - accuracy: 0.9941 - val_loss: 0.0253 - val_accuracy: 0.9930\n",
      "Epoch 82/200\n",
      "6256/6256 [==============================] - 1s 173us/step - loss: 0.0092 - accuracy: 0.9962 - val_loss: 0.0281 - val_accuracy: 0.9942\n",
      "Epoch 83/200\n",
      "6256/6256 [==============================] - 1s 173us/step - loss: 0.0068 - accuracy: 0.9962 - val_loss: 0.0246 - val_accuracy: 0.9930\n",
      "Epoch 84/200\n",
      "6256/6256 [==============================] - 1s 173us/step - loss: 0.0111 - accuracy: 0.9944 - val_loss: 0.0290 - val_accuracy: 0.9923\n",
      "Epoch 85/200\n",
      "6256/6256 [==============================] - 1s 171us/step - loss: 0.0120 - accuracy: 0.9952 - val_loss: 0.0260 - val_accuracy: 0.9942\n",
      "Epoch 86/200\n",
      "6256/6256 [==============================] - 1s 171us/step - loss: 0.0085 - accuracy: 0.9957 - val_loss: 0.0273 - val_accuracy: 0.9923\n",
      "Epoch 87/200\n",
      "6256/6256 [==============================] - 1s 171us/step - loss: 0.0072 - accuracy: 0.9963 - val_loss: 0.0342 - val_accuracy: 0.9910\n",
      "Epoch 88/200\n",
      "6256/6256 [==============================] - 1s 171us/step - loss: 0.0128 - accuracy: 0.9942 - val_loss: 0.0267 - val_accuracy: 0.9936\n",
      "Epoch 89/200\n",
      "6256/6256 [==============================] - 1s 172us/step - loss: 0.0083 - accuracy: 0.9958 - val_loss: 0.0289 - val_accuracy: 0.9942\n",
      "Epoch 90/200\n",
      "6256/6256 [==============================] - 1s 173us/step - loss: 0.0126 - accuracy: 0.9938 - val_loss: 0.0434 - val_accuracy: 0.9891\n",
      "Epoch 91/200\n",
      "6256/6256 [==============================] - 1s 172us/step - loss: 0.0117 - accuracy: 0.9941 - val_loss: 0.0272 - val_accuracy: 0.9936\n",
      "Epoch 92/200\n",
      "6256/6256 [==============================] - 1s 172us/step - loss: 0.0095 - accuracy: 0.9946 - val_loss: 0.0356 - val_accuracy: 0.9923\n",
      "Epoch 93/200\n",
      "6256/6256 [==============================] - 1s 170us/step - loss: 0.0207 - accuracy: 0.9915 - val_loss: 0.0180 - val_accuracy: 0.9923\n",
      "Epoch 94/200\n",
      "6256/6256 [==============================] - 1s 172us/step - loss: 0.0109 - accuracy: 0.9944 - val_loss: 0.0269 - val_accuracy: 0.9936\n",
      "Epoch 95/200\n",
      "6256/6256 [==============================] - 1s 173us/step - loss: 0.0121 - accuracy: 0.9931 - val_loss: 0.0276 - val_accuracy: 0.9930\n",
      "Epoch 96/200\n",
      "6256/6256 [==============================] - 1s 172us/step - loss: 0.0099 - accuracy: 0.9954 - val_loss: 0.0247 - val_accuracy: 0.9923\n",
      "Epoch 97/200\n",
      "6256/6256 [==============================] - 1s 172us/step - loss: 0.0072 - accuracy: 0.9962 - val_loss: 0.0296 - val_accuracy: 0.9923\n",
      "Epoch 98/200\n",
      "6256/6256 [==============================] - 1s 171us/step - loss: 0.0062 - accuracy: 0.9962 - val_loss: 0.0356 - val_accuracy: 0.9930\n",
      "Epoch 99/200\n",
      "6256/6256 [==============================] - 1s 171us/step - loss: 0.0085 - accuracy: 0.9952 - val_loss: 0.0215 - val_accuracy: 0.9936\n",
      "Epoch 100/200\n",
      "6256/6256 [==============================] - 1s 174us/step - loss: 0.0093 - accuracy: 0.9949 - val_loss: 0.0421 - val_accuracy: 0.9910\n",
      "Epoch 101/200\n",
      "6256/6256 [==============================] - 1s 174us/step - loss: 0.0143 - accuracy: 0.9944 - val_loss: 0.0166 - val_accuracy: 0.9949\n",
      "Epoch 102/200\n",
      "6256/6256 [==============================] - 1s 172us/step - loss: 0.0127 - accuracy: 0.9949 - val_loss: 0.0249 - val_accuracy: 0.9936\n",
      "Epoch 103/200\n",
      "6256/6256 [==============================] - 1s 173us/step - loss: 0.0073 - accuracy: 0.9957 - val_loss: 0.0348 - val_accuracy: 0.9936\n",
      "Epoch 104/200\n",
      "6256/6256 [==============================] - 1s 174us/step - loss: 0.0110 - accuracy: 0.9946 - val_loss: 0.0408 - val_accuracy: 0.9923\n",
      "Epoch 105/200\n",
      "6256/6256 [==============================] - 1s 173us/step - loss: 0.0108 - accuracy: 0.9950 - val_loss: 0.0282 - val_accuracy: 0.9930\n",
      "Epoch 106/200\n",
      "6256/6256 [==============================] - 1s 173us/step - loss: 0.0077 - accuracy: 0.9957 - val_loss: 0.0395 - val_accuracy: 0.9923\n",
      "Epoch 107/200\n",
      "6256/6256 [==============================] - 1s 174us/step - loss: 0.0069 - accuracy: 0.9962 - val_loss: 0.0514 - val_accuracy: 0.9923\n",
      "Epoch 108/200\n",
      "6256/6256 [==============================] - 1s 172us/step - loss: 0.0124 - accuracy: 0.9944 - val_loss: 0.0253 - val_accuracy: 0.9936\n",
      "Epoch 109/200\n",
      "6256/6256 [==============================] - 1s 173us/step - loss: 0.0102 - accuracy: 0.9938 - val_loss: 0.0308 - val_accuracy: 0.9930\n",
      "Epoch 110/200\n",
      "6256/6256 [==============================] - 1s 174us/step - loss: 0.0136 - accuracy: 0.9939 - val_loss: 0.0314 - val_accuracy: 0.9930\n",
      "Epoch 111/200\n",
      "6256/6256 [==============================] - 1s 172us/step - loss: 0.0142 - accuracy: 0.9944 - val_loss: 0.0152 - val_accuracy: 0.9942\n",
      "Epoch 112/200\n",
      "6256/6256 [==============================] - 1s 174us/step - loss: 0.0137 - accuracy: 0.9933 - val_loss: 0.0201 - val_accuracy: 0.9949\n",
      "Epoch 113/200\n",
      "6256/6256 [==============================] - 1s 171us/step - loss: 0.0110 - accuracy: 0.9939 - val_loss: 0.0275 - val_accuracy: 0.9936\n",
      "Epoch 114/200\n",
      "6256/6256 [==============================] - 1s 174us/step - loss: 0.0093 - accuracy: 0.9952 - val_loss: 0.0344 - val_accuracy: 0.9936\n",
      "Epoch 115/200\n",
      "6256/6256 [==============================] - 1s 173us/step - loss: 0.0107 - accuracy: 0.9941 - val_loss: 0.0283 - val_accuracy: 0.9930\n",
      "Epoch 116/200\n",
      "6256/6256 [==============================] - 1s 172us/step - loss: 0.0072 - accuracy: 0.9962 - val_loss: 0.0226 - val_accuracy: 0.9942\n",
      "Epoch 117/200\n",
      "6256/6256 [==============================] - 1s 172us/step - loss: 0.0086 - accuracy: 0.9958 - val_loss: 0.0278 - val_accuracy: 0.9955\n",
      "Epoch 118/200\n",
      "6256/6256 [==============================] - 1s 172us/step - loss: 0.0104 - accuracy: 0.9957 - val_loss: 0.0250 - val_accuracy: 0.9917\n",
      "Epoch 119/200\n",
      "6256/6256 [==============================] - 1s 173us/step - loss: 0.0116 - accuracy: 0.9934 - val_loss: 0.0336 - val_accuracy: 0.9917\n",
      "Epoch 120/200\n",
      "6256/6256 [==============================] - 1s 175us/step - loss: 0.0107 - accuracy: 0.9954 - val_loss: 0.0370 - val_accuracy: 0.9930\n",
      "Epoch 121/200\n",
      "6256/6256 [==============================] - 1s 172us/step - loss: 0.0149 - accuracy: 0.9930 - val_loss: 0.0245 - val_accuracy: 0.9949\n",
      "Epoch 122/200\n",
      "6256/6256 [==============================] - 1s 173us/step - loss: 0.0174 - accuracy: 0.9928 - val_loss: 0.0182 - val_accuracy: 0.9942\n",
      "Epoch 123/200\n",
      "6256/6256 [==============================] - 1s 173us/step - loss: 0.0129 - accuracy: 0.9939 - val_loss: 0.0346 - val_accuracy: 0.9936\n",
      "Epoch 124/200\n",
      "6256/6256 [==============================] - 1s 172us/step - loss: 0.0071 - accuracy: 0.9962 - val_loss: 0.0205 - val_accuracy: 0.9936\n",
      "Epoch 125/200\n",
      "6256/6256 [==============================] - 1s 171us/step - loss: 0.0074 - accuracy: 0.9954 - val_loss: 0.0267 - val_accuracy: 0.9949\n",
      "Epoch 126/200\n",
      "6256/6256 [==============================] - 1s 171us/step - loss: 0.0167 - accuracy: 0.9931 - val_loss: 0.0235 - val_accuracy: 0.9917\n",
      "Epoch 127/200\n",
      "6256/6256 [==============================] - 1s 172us/step - loss: 0.0088 - accuracy: 0.9949 - val_loss: 0.0317 - val_accuracy: 0.9917\n",
      "Epoch 128/200\n",
      "6256/6256 [==============================] - 1s 172us/step - loss: 0.0116 - accuracy: 0.9941 - val_loss: 0.0300 - val_accuracy: 0.9955\n",
      "Epoch 129/200\n",
      "6256/6256 [==============================] - 1s 171us/step - loss: 0.0105 - accuracy: 0.9942 - val_loss: 0.0294 - val_accuracy: 0.9936\n",
      "Epoch 130/200\n",
      "6256/6256 [==============================] - 1s 172us/step - loss: 0.0083 - accuracy: 0.9962 - val_loss: 0.0392 - val_accuracy: 0.9923\n",
      "Epoch 131/200\n",
      "6256/6256 [==============================] - 1s 173us/step - loss: 0.0088 - accuracy: 0.9942 - val_loss: 0.0298 - val_accuracy: 0.9936\n",
      "Epoch 132/200\n",
      "6256/6256 [==============================] - 1s 172us/step - loss: 0.0074 - accuracy: 0.9952 - val_loss: 0.0309 - val_accuracy: 0.9923\n",
      "Epoch 133/200\n",
      "6256/6256 [==============================] - 1s 173us/step - loss: 0.0056 - accuracy: 0.9963 - val_loss: 0.0364 - val_accuracy: 0.9923\n",
      "Epoch 134/200\n",
      "6256/6256 [==============================] - 1s 173us/step - loss: 0.0052 - accuracy: 0.9963 - val_loss: 0.0388 - val_accuracy: 0.9930\n",
      "Epoch 135/200\n",
      "6256/6256 [==============================] - 1s 171us/step - loss: 0.0073 - accuracy: 0.9963 - val_loss: 0.0442 - val_accuracy: 0.9936\n",
      "Epoch 136/200\n",
      "6256/6256 [==============================] - 1s 172us/step - loss: 0.0113 - accuracy: 0.9942 - val_loss: 0.0338 - val_accuracy: 0.9885\n",
      "Epoch 137/200\n",
      "6256/6256 [==============================] - 1s 173us/step - loss: 0.0126 - accuracy: 0.9952 - val_loss: 0.0278 - val_accuracy: 0.9930\n",
      "Epoch 138/200\n",
      "6256/6256 [==============================] - 1s 171us/step - loss: 0.0112 - accuracy: 0.9947 - val_loss: 0.0246 - val_accuracy: 0.9955\n",
      "Epoch 139/200\n",
      "6256/6256 [==============================] - 1s 173us/step - loss: 0.0175 - accuracy: 0.9939 - val_loss: 0.0297 - val_accuracy: 0.9891\n",
      "Epoch 140/200\n",
      "6256/6256 [==============================] - 1s 173us/step - loss: 0.0062 - accuracy: 0.9960 - val_loss: 0.0411 - val_accuracy: 0.9936\n",
      "Epoch 141/200\n",
      "6256/6256 [==============================] - 1s 173us/step - loss: 0.0064 - accuracy: 0.9970 - val_loss: 0.0425 - val_accuracy: 0.9936\n",
      "Epoch 142/200\n",
      "6256/6256 [==============================] - 1s 174us/step - loss: 0.0071 - accuracy: 0.9965 - val_loss: 0.0468 - val_accuracy: 0.9936\n",
      "Epoch 143/200\n",
      "6256/6256 [==============================] - 1s 174us/step - loss: 0.0102 - accuracy: 0.9947 - val_loss: 0.0246 - val_accuracy: 0.9942\n",
      "Epoch 144/200\n",
      "6256/6256 [==============================] - 1s 174us/step - loss: 0.0089 - accuracy: 0.9946 - val_loss: 0.0370 - val_accuracy: 0.9917\n",
      "Epoch 145/200\n",
      "6256/6256 [==============================] - 1s 172us/step - loss: 0.0098 - accuracy: 0.9944 - val_loss: 0.0604 - val_accuracy: 0.9872\n",
      "Epoch 146/200\n",
      "6256/6256 [==============================] - 1s 173us/step - loss: 0.0120 - accuracy: 0.9941 - val_loss: 0.0222 - val_accuracy: 0.9949\n",
      "Epoch 147/200\n",
      "6256/6256 [==============================] - 1s 173us/step - loss: 0.0103 - accuracy: 0.9942 - val_loss: 0.0157 - val_accuracy: 0.9942\n",
      "Epoch 148/200\n",
      "6256/6256 [==============================] - 1s 173us/step - loss: 0.0113 - accuracy: 0.9936 - val_loss: 0.0374 - val_accuracy: 0.9917\n",
      "Epoch 149/200\n",
      "6256/6256 [==============================] - 1s 174us/step - loss: 0.0105 - accuracy: 0.9955 - val_loss: 0.0366 - val_accuracy: 0.9942\n",
      "Epoch 150/200\n",
      "6256/6256 [==============================] - 1s 174us/step - loss: 0.0132 - accuracy: 0.9942 - val_loss: 0.0242 - val_accuracy: 0.9936\n",
      "Epoch 151/200\n",
      "6256/6256 [==============================] - 1s 171us/step - loss: 0.0128 - accuracy: 0.9930 - val_loss: 0.0238 - val_accuracy: 0.9936\n",
      "Epoch 152/200\n",
      "6256/6256 [==============================] - 1s 172us/step - loss: 0.0090 - accuracy: 0.9955 - val_loss: 0.0164 - val_accuracy: 0.9942\n",
      "Epoch 153/200\n",
      "6256/6256 [==============================] - 1s 171us/step - loss: 0.0085 - accuracy: 0.9954 - val_loss: 0.0211 - val_accuracy: 0.9942\n",
      "Epoch 154/200\n",
      "6256/6256 [==============================] - 1s 173us/step - loss: 0.0113 - accuracy: 0.9942 - val_loss: 0.0239 - val_accuracy: 0.9942\n",
      "Epoch 155/200\n",
      "6256/6256 [==============================] - 1s 171us/step - loss: 0.0075 - accuracy: 0.9958 - val_loss: 0.0267 - val_accuracy: 0.9936\n",
      "Epoch 156/200\n",
      "6256/6256 [==============================] - 1s 173us/step - loss: 0.0099 - accuracy: 0.9947 - val_loss: 0.0397 - val_accuracy: 0.9942\n",
      "Epoch 157/200\n",
      "6256/6256 [==============================] - 1s 171us/step - loss: 0.0073 - accuracy: 0.9958 - val_loss: 0.0390 - val_accuracy: 0.9936\n",
      "Epoch 158/200\n",
      "6256/6256 [==============================] - 1s 174us/step - loss: 0.0107 - accuracy: 0.9939 - val_loss: 0.0336 - val_accuracy: 0.9930\n",
      "Epoch 159/200\n",
      "6256/6256 [==============================] - 1s 175us/step - loss: 0.0087 - accuracy: 0.9949 - val_loss: 0.0314 - val_accuracy: 0.9955\n",
      "Epoch 160/200\n",
      "6256/6256 [==============================] - 1s 174us/step - loss: 0.0119 - accuracy: 0.9946 - val_loss: 0.0342 - val_accuracy: 0.9923\n",
      "Epoch 161/200\n",
      "6256/6256 [==============================] - 1s 173us/step - loss: 0.0139 - accuracy: 0.9941 - val_loss: 0.0252 - val_accuracy: 0.9949\n",
      "Epoch 162/200\n",
      "6256/6256 [==============================] - 1s 172us/step - loss: 0.0095 - accuracy: 0.9952 - val_loss: 0.0279 - val_accuracy: 0.9949\n",
      "Epoch 163/200\n",
      "6256/6256 [==============================] - 1s 173us/step - loss: 0.0054 - accuracy: 0.9965 - val_loss: 0.0379 - val_accuracy: 0.9949\n",
      "Epoch 164/200\n",
      "6256/6256 [==============================] - 1s 173us/step - loss: 0.0075 - accuracy: 0.9954 - val_loss: 0.0213 - val_accuracy: 0.9949\n",
      "Epoch 165/200\n",
      "6256/6256 [==============================] - 1s 173us/step - loss: 0.0068 - accuracy: 0.9965 - val_loss: 0.0296 - val_accuracy: 0.9942\n",
      "Epoch 166/200\n",
      "6256/6256 [==============================] - 1s 172us/step - loss: 0.0154 - accuracy: 0.9941 - val_loss: 0.0365 - val_accuracy: 0.9898\n",
      "Epoch 167/200\n",
      "6256/6256 [==============================] - 1s 173us/step - loss: 0.0109 - accuracy: 0.9949 - val_loss: 0.0250 - val_accuracy: 0.9942\n",
      "Epoch 168/200\n",
      "6256/6256 [==============================] - 1s 174us/step - loss: 0.0064 - accuracy: 0.9963 - val_loss: 0.0527 - val_accuracy: 0.9942\n",
      "Epoch 169/200\n",
      "6256/6256 [==============================] - 1s 174us/step - loss: 0.0105 - accuracy: 0.9949 - val_loss: 0.0211 - val_accuracy: 0.9936\n",
      "Epoch 170/200\n",
      "6256/6256 [==============================] - 1s 174us/step - loss: 0.0100 - accuracy: 0.9946 - val_loss: 0.0236 - val_accuracy: 0.9949\n",
      "Epoch 171/200\n",
      "6256/6256 [==============================] - 1s 175us/step - loss: 0.0102 - accuracy: 0.9955 - val_loss: 0.0530 - val_accuracy: 0.9936\n",
      "Epoch 172/200\n",
      "6256/6256 [==============================] - 1s 173us/step - loss: 0.0123 - accuracy: 0.9941 - val_loss: 0.0288 - val_accuracy: 0.9949\n",
      "Epoch 173/200\n",
      "6256/6256 [==============================] - 1s 173us/step - loss: 0.0097 - accuracy: 0.9954 - val_loss: 0.0202 - val_accuracy: 0.9955\n",
      "Epoch 174/200\n",
      "6256/6256 [==============================] - 1s 173us/step - loss: 0.0206 - accuracy: 0.9918 - val_loss: 0.0154 - val_accuracy: 0.9949\n",
      "Epoch 175/200\n",
      "6256/6256 [==============================] - 1s 173us/step - loss: 0.0095 - accuracy: 0.9952 - val_loss: 0.0278 - val_accuracy: 0.9949\n",
      "Epoch 176/200\n",
      "6256/6256 [==============================] - 1s 172us/step - loss: 0.0107 - accuracy: 0.9944 - val_loss: 0.0315 - val_accuracy: 0.9949\n",
      "Epoch 177/200\n",
      "6256/6256 [==============================] - 1s 172us/step - loss: 0.0100 - accuracy: 0.9962 - val_loss: 0.0409 - val_accuracy: 0.9942\n",
      "Epoch 178/200\n",
      "6256/6256 [==============================] - 1s 174us/step - loss: 0.0108 - accuracy: 0.9947 - val_loss: 0.0379 - val_accuracy: 0.9942\n",
      "Epoch 179/200\n",
      "6256/6256 [==============================] - 1s 173us/step - loss: 0.0135 - accuracy: 0.9946 - val_loss: 0.0177 - val_accuracy: 0.9942\n",
      "Epoch 180/200\n",
      "6256/6256 [==============================] - 1s 171us/step - loss: 0.0087 - accuracy: 0.9942 - val_loss: 0.0333 - val_accuracy: 0.9942\n",
      "Epoch 181/200\n",
      "6256/6256 [==============================] - 1s 173us/step - loss: 0.0098 - accuracy: 0.9944 - val_loss: 0.0332 - val_accuracy: 0.9949\n",
      "Epoch 182/200\n",
      "6256/6256 [==============================] - 1s 173us/step - loss: 0.0069 - accuracy: 0.9958 - val_loss: 0.0478 - val_accuracy: 0.9942\n",
      "Epoch 183/200\n",
      "6256/6256 [==============================] - 1s 172us/step - loss: 0.0078 - accuracy: 0.9949 - val_loss: 0.0360 - val_accuracy: 0.9936\n",
      "Epoch 184/200\n",
      "6256/6256 [==============================] - 1s 173us/step - loss: 0.0109 - accuracy: 0.9949 - val_loss: 0.0275 - val_accuracy: 0.9942\n",
      "Epoch 185/200\n",
      "6256/6256 [==============================] - 1s 173us/step - loss: 0.0095 - accuracy: 0.9955 - val_loss: 0.0582 - val_accuracy: 0.9936\n",
      "Epoch 186/200\n",
      "6256/6256 [==============================] - 1s 172us/step - loss: 0.0062 - accuracy: 0.9960 - val_loss: 0.0580 - val_accuracy: 0.9942\n",
      "Epoch 187/200\n",
      "6256/6256 [==============================] - 1s 175us/step - loss: 0.0076 - accuracy: 0.9957 - val_loss: 0.0833 - val_accuracy: 0.9898\n",
      "Epoch 188/200\n",
      "6256/6256 [==============================] - 1s 174us/step - loss: 0.0105 - accuracy: 0.9965 - val_loss: 0.0692 - val_accuracy: 0.9936\n",
      "Epoch 189/200\n",
      "6256/6256 [==============================] - 1s 175us/step - loss: 0.0131 - accuracy: 0.9947 - val_loss: 0.0533 - val_accuracy: 0.9910\n",
      "Epoch 190/200\n",
      "6256/6256 [==============================] - 1s 173us/step - loss: 0.0119 - accuracy: 0.9942 - val_loss: 0.0408 - val_accuracy: 0.9923\n",
      "Epoch 191/200\n",
      "6256/6256 [==============================] - 1s 172us/step - loss: 0.0103 - accuracy: 0.9941 - val_loss: 0.0540 - val_accuracy: 0.9910\n",
      "Epoch 192/200\n",
      "6256/6256 [==============================] - 1s 172us/step - loss: 0.0076 - accuracy: 0.9966 - val_loss: 0.0707 - val_accuracy: 0.9917\n",
      "Epoch 193/200\n",
      "6256/6256 [==============================] - 1s 173us/step - loss: 0.0179 - accuracy: 0.9933 - val_loss: 0.0439 - val_accuracy: 0.9910\n",
      "Epoch 194/200\n",
      "6256/6256 [==============================] - 1s 174us/step - loss: 0.0144 - accuracy: 0.9941 - val_loss: 0.0199 - val_accuracy: 0.9942\n",
      "Epoch 195/200\n",
      "6256/6256 [==============================] - 1s 173us/step - loss: 0.0119 - accuracy: 0.9944 - val_loss: 0.0450 - val_accuracy: 0.9942\n",
      "Epoch 196/200\n",
      "6256/6256 [==============================] - 1s 173us/step - loss: 0.0193 - accuracy: 0.9933 - val_loss: 0.0353 - val_accuracy: 0.9942\n",
      "Epoch 197/200\n",
      "6256/6256 [==============================] - 1s 172us/step - loss: 0.0113 - accuracy: 0.9944 - val_loss: 0.0462 - val_accuracy: 0.9942\n",
      "Epoch 198/200\n",
      "6256/6256 [==============================] - 1s 174us/step - loss: 0.0106 - accuracy: 0.9939 - val_loss: 0.0328 - val_accuracy: 0.9942\n",
      "Epoch 199/200\n",
      "6256/6256 [==============================] - 1s 175us/step - loss: 0.0076 - accuracy: 0.9954 - val_loss: 0.0551 - val_accuracy: 0.9942\n",
      "Epoch 200/200\n",
      "6256/6256 [==============================] - 1s 171us/step - loss: 0.0108 - accuracy: 0.9944 - val_loss: 0.0612 - val_accuracy: 0.9936\n"
     ]
    },
    {
     "data": {
      "text/plain": [
       "<keras.callbacks.callbacks.History at 0x7fdcb606fd68>"
      ]
     },
     "execution_count": 16,
     "metadata": {
      "tags": []
     },
     "output_type": "execute_result"
    }
   ],
   "source": [
    "# training the model\n",
    "model.fit(X_train, y_train, epochs=200, validation_data=(X_test, y_test), callbacks=[mcp_save], batch_size=128)"
   ]
  },
  {
   "cell_type": "code",
   "execution_count": null,
   "metadata": {
    "colab": {
     "base_uri": "https://localhost:8080/",
     "height": 206
    },
    "id": "1Y8lpezVz5u6",
    "outputId": "5147e80a-39cd-429d-9662-7a5004006ee6"
   },
   "outputs": [
    {
     "data": {
      "text/html": [
       "<div>\n",
       "<style scoped>\n",
       "    .dataframe tbody tr th:only-of-type {\n",
       "        vertical-align: middle;\n",
       "    }\n",
       "\n",
       "    .dataframe tbody tr th {\n",
       "        vertical-align: top;\n",
       "    }\n",
       "\n",
       "    .dataframe thead th {\n",
       "        text-align: right;\n",
       "    }\n",
       "</style>\n",
       "<table border=\"1\" class=\"dataframe\">\n",
       "  <thead>\n",
       "    <tr style=\"text-align: right;\">\n",
       "      <th></th>\n",
       "      <th>video_name</th>\n",
       "    </tr>\n",
       "  </thead>\n",
       "  <tbody>\n",
       "    <tr>\n",
       "      <th>0</th>\n",
       "      <td>Child/Child_a08.mp4</td>\n",
       "    </tr>\n",
       "    <tr>\n",
       "      <th>1</th>\n",
       "      <td>Child/Child_a17.mp4</td>\n",
       "    </tr>\n",
       "    <tr>\n",
       "      <th>2</th>\n",
       "      <td>Child/Child_a19.mp4</td>\n",
       "    </tr>\n",
       "    <tr>\n",
       "      <th>3</th>\n",
       "      <td>Child/Child_a23.mp4</td>\n",
       "    </tr>\n",
       "    <tr>\n",
       "      <th>4</th>\n",
       "      <td>Child/Child_a26.mp4</td>\n",
       "    </tr>\n",
       "  </tbody>\n",
       "</table>\n",
       "</div>"
      ],
      "text/plain": [
       "            video_name\n",
       "0  Child/Child_a08.mp4\n",
       "1  Child/Child_a17.mp4\n",
       "2  Child/Child_a19.mp4\n",
       "3  Child/Child_a23.mp4\n",
       "4  Child/Child_a26.mp4"
      ]
     },
     "execution_count": 17,
     "metadata": {
      "tags": []
     },
     "output_type": "execute_result"
    }
   ],
   "source": [
    "# getting the test list\n",
    "f = open(\"test.txt\", \"r\")\n",
    "temp = f.read()\n",
    "videos = temp.split('\\n')\n",
    "\n",
    "# creating the dataframe\n",
    "test = pd.DataFrame()\n",
    "test['video_name'] = videos\n",
    "test = test[:-1]\n",
    "test_videos = test['video_name']\n",
    "test.head()"
   ]
  },
  {
   "cell_type": "code",
   "execution_count": null,
   "metadata": {
    "id": "pCk_6DLx1JrY"
   },
   "outputs": [],
   "source": [
    "# creating the tags\n",
    "train = pd.read_csv('Data/train_new.csv')\n",
    "y = train['class']\n",
    "y = pd.get_dummies(y)"
   ]
  },
  {
   "cell_type": "code",
   "execution_count": null,
   "metadata": {
    "colab": {
     "base_uri": "https://localhost:8080/",
     "height": 35
    },
    "id": "QrAu2KzR1Usb",
    "outputId": "cd57ebb7-b10f-4368-a8a7-525510e7e888"
   },
   "outputs": [
    {
     "name": "stderr",
     "output_type": "stream",
     "text": [
      "100%|██████████| 64/64 [03:30<00:00,  3.30s/it]\n"
     ]
    }
   ],
   "source": [
    "from glob import glob\n",
    "from scipy import stats as s\n",
    "# creating two lists to store predicted and actual tags\n",
    "predict = []\n",
    "actual = []\n",
    "\n",
    "# for loop to extract frames from each test video\n",
    "for i in tqdm(range(test_videos.shape[0])):\n",
    "    count = 0\n",
    "    videoFile = test_videos[i]\n",
    "    cap = cv2.VideoCapture('Data/'+videoFile)   # capturing the video from the given path\n",
    "    frameRate = cap.get(5) #frame rate\n",
    "    x=1\n",
    "    # removing all other files from the temp folder\n",
    "    files = glob('temp/*')\n",
    "    for f in files:\n",
    "        os.remove(f)\n",
    "    while(cap.isOpened()):\n",
    "        frameId = cap.get(1) #current frame number\n",
    "        ret, frame = cap.read()\n",
    "        if (ret != True):\n",
    "            break\n",
    "        if (frameId % 10 == 0):\n",
    "            # storing the frames of this particular video in temp folder\n",
    "            filename ='temp/' + \"_frame%d.jpg\" % count;count+=1\n",
    "            cv2.imwrite(filename, frame)\n",
    "    cap.release()\n",
    "    \n",
    "    # reading all the frames from temp folder\n",
    "    images = glob(\"temp/*.jpg\")\n",
    "    \n",
    "    prediction_images = []\n",
    "    for i in range(len(images)):\n",
    "        img = image.load_img(images[i], target_size=(224,224,3))\n",
    "        img = image.img_to_array(img)\n",
    "        img = img/255.0\n",
    "        prediction_images.append(img)\n",
    "        \n",
    "    # converting all the frames for a test video into numpy array\n",
    "    prediction_images = np.array(prediction_images)\n",
    "    # extracting features using pre-trained model\n",
    "    prediction_images = base_model.predict(prediction_images)\n",
    "    # converting features in one dimensional array\n",
    "    prediction_images = prediction_images.reshape(prediction_images.shape[0], 7*7*512)\n",
    "    # predicting tags for each array\n",
    "    prediction = model.predict_classes(prediction_images)\n",
    "    # appending the mode of predictions in predict list to assign the tag to the video\n",
    "    predict.append(y.columns.values[s.mode(prediction)[0][0]])\n",
    "    # appending the actual tag of the video\n",
    "    if (videoFile.split('/')[1].split('_')[0] == 'Child'):\n",
    "        actual.append(1)\n",
    "    else:\n",
    "        actual.append(0)\n",
    "    # actual.append(videoFile.split('/')[1].split('_')[1])"
   ]
  },
  {
   "cell_type": "code",
   "execution_count": null,
   "metadata": {
    "colab": {
     "base_uri": "https://localhost:8080/",
     "height": 35
    },
    "id": "UA1GxL9o3n96",
    "outputId": "3d5fc24d-ffe6-40b2-ea03-c230daae82b2"
   },
   "outputs": [
    {
     "data": {
      "text/plain": [
       "95.3125"
      ]
     },
     "execution_count": 20,
     "metadata": {
      "tags": []
     },
     "output_type": "execute_result"
    }
   ],
   "source": [
    "# checking the accuracy of the predicted tags\n",
    "from sklearn.metrics import accuracy_score\n",
    "accuracy_score(predict, actual)*100"
   ]
  },
  {
   "cell_type": "code",
   "execution_count": null,
   "metadata": {
    "id": "I-qI7CSEq1fB"
   },
   "outputs": [],
   "source": []
  }
 ],
 "metadata": {
  "accelerator": "GPU",
  "colab": {
   "collapsed_sections": [],
   "machine_shape": "hm",
   "name": "Child_Labour_Final.ipynb",
   "provenance": []
  },
  "kernelspec": {
   "display_name": "Python 3",
   "language": "python",
   "name": "python3"
  },
  "language_info": {
   "codemirror_mode": {
    "name": "ipython",
    "version": 3
   },
   "file_extension": ".py",
   "mimetype": "text/x-python",
   "name": "python",
   "nbconvert_exporter": "python",
   "pygments_lexer": "ipython3",
   "version": "3.8.8"
  }
 },
 "nbformat": 4,
 "nbformat_minor": 1
}
