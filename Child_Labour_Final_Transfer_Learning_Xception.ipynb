{
 "cells": [
  {
   "cell_type": "markdown",
   "metadata": {
    "id": "KiDY6Zefq4OS"
   },
   "source": [
    "Transfer Learning Xception"
   ]
  },
  {
   "cell_type": "code",
   "execution_count": null,
   "metadata": {
    "colab": {
     "base_uri": "https://localhost:8080/",
     "height": 128
    },
    "id": "Bi2QZepIq2bv",
    "outputId": "112c7037-3435-4aa8-cf9b-9b6936b2575e"
   },
   "outputs": [
    {
     "name": "stdout",
     "output_type": "stream",
     "text": [
      "TensorFlow version: 2.2.0\n",
      "WARNING:tensorflow:From <ipython-input-1-baeee846c934>:12: is_gpu_available (from tensorflow.python.framework.test_util) is deprecated and will be removed in a future version.\n",
      "Instructions for updating:\n",
      "Use `tf.config.list_physical_devices('GPU')` instead.\n",
      "Is using GPU? True\n"
     ]
    }
   ],
   "source": [
    "import tensorflow as tf\n",
    "import os\n",
    "import numpy as np\n",
    "\n",
    "from matplotlib import pyplot as plt\n",
    "%matplotlib inline\n",
    "\n",
    "if not os.path.isdir('models'):\n",
    "    os.mkdir('models')\n",
    "    \n",
    "print('TensorFlow version:', tf.__version__)\n",
    "print('Is using GPU?', tf.test.is_gpu_available())"
   ]
  },
  {
   "cell_type": "code",
   "execution_count": null,
   "metadata": {
    "id": "Da-0OkdAqX2R"
   },
   "outputs": [],
   "source": []
  },
  {
   "cell_type": "code",
   "execution_count": null,
   "metadata": {
    "colab": {
     "base_uri": "https://localhost:8080/",
     "height": 35
    },
    "id": "LIvkvIihq2d2",
    "outputId": "ea367235-4b55-454b-c654-0b3f7d78d9f4"
   },
   "outputs": [
    {
     "name": "stderr",
     "output_type": "stream",
     "text": [
      "Using TensorFlow backend.\n"
     ]
    }
   ],
   "source": [
    "import cv2\n",
    "from glob import glob\n",
    "from scipy import stats as s\n",
    "import keras\n",
    "from keras.models import Sequential\n",
    "import tensorflow.keras.applications.xception\n",
    "from keras.applications.xception import Xception\n",
    "from keras.layers import Dense, InputLayer, Dropout, Flatten\n",
    "from keras.layers import Conv2D, MaxPooling2D, GlobalMaxPooling2D\n",
    "from keras.preprocessing import image\n",
    "import numpy as np\n",
    "import pandas as pd\n",
    "import matplotlib.pyplot as plt\n",
    "from tqdm import tqdm\n",
    "from sklearn.model_selection import train_test_split"
   ]
  },
  {
   "cell_type": "code",
   "execution_count": null,
   "metadata": {
    "colab": {
     "base_uri": "https://localhost:8080/",
     "height": 206
    },
    "id": "pSEBIGv7q2g0",
    "outputId": "befc033f-a400-4ba3-8ae1-4d5f134ee125"
   },
   "outputs": [
    {
     "data": {
      "text/html": [
       "<div>\n",
       "<style scoped>\n",
       "    .dataframe tbody tr th:only-of-type {\n",
       "        vertical-align: middle;\n",
       "    }\n",
       "\n",
       "    .dataframe tbody tr th {\n",
       "        vertical-align: top;\n",
       "    }\n",
       "\n",
       "    .dataframe thead th {\n",
       "        text-align: right;\n",
       "    }\n",
       "</style>\n",
       "<table border=\"1\" class=\"dataframe\">\n",
       "  <thead>\n",
       "    <tr style=\"text-align: right;\">\n",
       "      <th></th>\n",
       "      <th>image</th>\n",
       "      <th>class</th>\n",
       "    </tr>\n",
       "  </thead>\n",
       "  <tbody>\n",
       "    <tr>\n",
       "      <th>0</th>\n",
       "      <td>Child_p55.mp4_frame20.jpg</td>\n",
       "      <td>1</td>\n",
       "    </tr>\n",
       "    <tr>\n",
       "      <th>1</th>\n",
       "      <td>Child_a36.mp4_frame24.jpg</td>\n",
       "      <td>1</td>\n",
       "    </tr>\n",
       "    <tr>\n",
       "      <th>2</th>\n",
       "      <td>Child_a49.mp4_frame19.jpg</td>\n",
       "      <td>1</td>\n",
       "    </tr>\n",
       "    <tr>\n",
       "      <th>3</th>\n",
       "      <td>Adult_a33.mp4_frame3.jpg</td>\n",
       "      <td>0</td>\n",
       "    </tr>\n",
       "    <tr>\n",
       "      <th>4</th>\n",
       "      <td>Adult_p47.mp4_frame35.jpg</td>\n",
       "      <td>0</td>\n",
       "    </tr>\n",
       "  </tbody>\n",
       "</table>\n",
       "</div>"
      ],
      "text/plain": [
       "                       image  class\n",
       "0  Child_p55.mp4_frame20.jpg      1\n",
       "1  Child_a36.mp4_frame24.jpg      1\n",
       "2  Child_a49.mp4_frame19.jpg      1\n",
       "3   Adult_a33.mp4_frame3.jpg      0\n",
       "4  Adult_p47.mp4_frame35.jpg      0"
      ]
     },
     "execution_count": 3,
     "metadata": {
      "tags": []
     },
     "output_type": "execute_result"
    }
   ],
   "source": [
    "train = pd.read_csv('Data/train_new.csv')\n",
    "train.head()"
   ]
  },
  {
   "cell_type": "code",
   "execution_count": null,
   "metadata": {
    "colab": {
     "base_uri": "https://localhost:8080/",
     "height": 53
    },
    "id": "e--o6tjuq2jm",
    "outputId": "f3c6b5df-2004-4347-9798-f817f7f05355"
   },
   "outputs": [
    {
     "name": "stderr",
     "output_type": "stream",
     "text": [
      "100%|██████████| 7820/7820 [02:53<00:00, 44.96it/s]\n"
     ]
    },
    {
     "data": {
      "text/plain": [
       "(7820, 224, 224, 3)"
      ]
     },
     "execution_count": 4,
     "metadata": {
      "tags": []
     },
     "output_type": "execute_result"
    }
   ],
   "source": [
    "# creating an empty list\n",
    "train_image = []\n",
    "\n",
    "# for loop to read and store frames\n",
    "for i in tqdm(range(train.shape[0])):\n",
    "    # loading the image and keeping the target size as (224,224,3)\n",
    "    img = image.load_img('train/'+train['image'][i], target_size=(224,224,3))\n",
    "    # converting it to array\n",
    "    img = image.img_to_array(img)\n",
    "    # normalizing the pixel value\n",
    "    img = img/255.0\n",
    "    # appending the image to the train_image list\n",
    "    train_image.append(img)\n",
    "    \n",
    "# converting the list to numpy array\n",
    "X = np.array(train_image)\n",
    "\n",
    "# shape of the array\n",
    "X.shape"
   ]
  },
  {
   "cell_type": "code",
   "execution_count": null,
   "metadata": {
    "id": "4rxqt-8zq2nL"
   },
   "outputs": [],
   "source": [
    "# separating the target\n",
    "y = train['class']\n",
    "\n",
    "# creating the training and validation set\n",
    "X_train, X_test, y_train, y_test = train_test_split(X, y, random_state=42, test_size=0.2, stratify = y)"
   ]
  },
  {
   "cell_type": "code",
   "execution_count": null,
   "metadata": {
    "id": "5Bcf7gjhq2sL"
   },
   "outputs": [],
   "source": [
    "# creating dummies of target variable for train and validation set\n",
    "y_train = pd.get_dummies(y_train)\n",
    "y_test = pd.get_dummies(y_test)"
   ]
  },
  {
   "cell_type": "code",
   "execution_count": null,
   "metadata": {
    "id": "GtBngJCgq2wg"
   },
   "outputs": [],
   "source": [
    "# creating the base model of pre-trained Xception model\n",
    "base_model = Xception(weights='imagenet', include_top=False)"
   ]
  },
  {
   "cell_type": "code",
   "execution_count": null,
   "metadata": {
    "colab": {
     "base_uri": "https://localhost:8080/",
     "height": 35
    },
    "id": "3AAsmWmLq2yd",
    "outputId": "0dd9b200-3c4c-4700-8f11-4263bafcebe4"
   },
   "outputs": [
    {
     "data": {
      "text/plain": [
       "(6256, 7, 7, 2048)"
      ]
     },
     "execution_count": 8,
     "metadata": {
      "tags": []
     },
     "output_type": "execute_result"
    }
   ],
   "source": [
    "# extracting features for training frames\n",
    "X_train = base_model.predict(X_train)\n",
    "X_train.shape"
   ]
  },
  {
   "cell_type": "code",
   "execution_count": null,
   "metadata": {
    "colab": {
     "base_uri": "https://localhost:8080/",
     "height": 35
    },
    "id": "eRVp9Pmsq22p",
    "outputId": "3fa80113-d1ec-4c0a-9ed1-dda038eafd86"
   },
   "outputs": [
    {
     "data": {
      "text/plain": [
       "(1564, 7, 7, 2048)"
      ]
     },
     "execution_count": 9,
     "metadata": {
      "tags": []
     },
     "output_type": "execute_result"
    }
   ],
   "source": [
    "# extracting features for validation frames\n",
    "X_test = base_model.predict(X_test)\n",
    "X_test.shape"
   ]
  },
  {
   "cell_type": "code",
   "execution_count": null,
   "metadata": {
    "id": "me0zcGHFq27c"
   },
   "outputs": [],
   "source": [
    "# reshaping the training as well as validation frames in single dimension\n",
    "X_train = X_train.reshape(6256, 7*7*2048)\n",
    "X_test = X_test.reshape(1564, 7*7*2048)"
   ]
  },
  {
   "cell_type": "code",
   "execution_count": null,
   "metadata": {
    "colab": {
     "base_uri": "https://localhost:8080/",
     "height": 35
    },
    "id": "-CBvGHggq29T",
    "outputId": "db7e1c22-fcc3-4816-e45e-0771ead34f00"
   },
   "outputs": [
    {
     "data": {
      "text/plain": [
       "(6256, 100352)"
      ]
     },
     "execution_count": 11,
     "metadata": {
      "tags": []
     },
     "output_type": "execute_result"
    }
   ],
   "source": [
    "# normalizing the pixel values\n",
    "max = X_train.max()\n",
    "X_train = X_train/max\n",
    "X_test = X_test/max\n",
    "X_train.shape"
   ]
  },
  {
   "cell_type": "code",
   "execution_count": null,
   "metadata": {
    "id": "remqsRV8q3Ac"
   },
   "outputs": [],
   "source": [
    "#defining the model architecture\n",
    "model = Sequential()\n",
    "model.add(Dense(1024, activation='relu', input_shape=(100352,)))\n",
    "model.add(Dropout(0.5))\n",
    "model.add(Dense(512, activation='relu'))\n",
    "model.add(Dropout(0.5))\n",
    "model.add(Dense(256, activation='relu'))\n",
    "model.add(Dropout(0.5))\n",
    "model.add(Dense(128, activation='relu'))\n",
    "model.add(Dropout(0.5))\n",
    "model.add(Dense(2, activation='softmax'))"
   ]
  },
  {
   "cell_type": "code",
   "execution_count": null,
   "metadata": {
    "id": "_0taJOscq3CD"
   },
   "outputs": [],
   "source": [
    "from keras.callbacks import ModelCheckpoint\n",
    "mcp_save = ModelCheckpoint('weight.hdf5', save_best_only=True, monitor='val_loss', mode='min')"
   ]
  },
  {
   "cell_type": "code",
   "execution_count": null,
   "metadata": {
    "colab": {
     "base_uri": "https://localhost:8080/",
     "height": 489
    },
    "id": "PyG421kOq213",
    "outputId": "d305368d-4a6b-456a-ccff-9def677d8cca"
   },
   "outputs": [
    {
     "name": "stdout",
     "output_type": "stream",
     "text": [
      "Model: \"sequential_1\"\n",
      "_________________________________________________________________\n",
      "Layer (type)                 Output Shape              Param #   \n",
      "=================================================================\n",
      "dense_1 (Dense)              (None, 1024)              102761472 \n",
      "_________________________________________________________________\n",
      "dropout_1 (Dropout)          (None, 1024)              0         \n",
      "_________________________________________________________________\n",
      "dense_2 (Dense)              (None, 512)               524800    \n",
      "_________________________________________________________________\n",
      "dropout_2 (Dropout)          (None, 512)               0         \n",
      "_________________________________________________________________\n",
      "dense_3 (Dense)              (None, 256)               131328    \n",
      "_________________________________________________________________\n",
      "dropout_3 (Dropout)          (None, 256)               0         \n",
      "_________________________________________________________________\n",
      "dense_4 (Dense)              (None, 128)               32896     \n",
      "_________________________________________________________________\n",
      "dropout_4 (Dropout)          (None, 128)               0         \n",
      "_________________________________________________________________\n",
      "dense_5 (Dense)              (None, 2)                 258       \n",
      "=================================================================\n",
      "Total params: 103,450,754\n",
      "Trainable params: 103,450,754\n",
      "Non-trainable params: 0\n",
      "_________________________________________________________________\n"
     ]
    }
   ],
   "source": [
    "# compiling the model\n",
    "model.compile(loss='categorical_crossentropy',optimizer='Adam',metrics=['accuracy'])\n",
    "model.summary()"
   ]
  },
  {
   "cell_type": "code",
   "execution_count": null,
   "metadata": {
    "colab": {
     "base_uri": "https://localhost:8080/",
     "height": 1000
    },
    "id": "3aZ5T5q3q2rN",
    "outputId": "cf61a21d-8cfb-4c50-c007-1a4877ae741d"
   },
   "outputs": [
    {
     "name": "stdout",
     "output_type": "stream",
     "text": [
      "Train on 6256 samples, validate on 1564 samples\n",
      "Epoch 1/200\n",
      "6256/6256 [==============================] - 4s 590us/step - loss: 0.7502 - accuracy: 0.6678 - val_loss: 0.2966 - val_accuracy: 0.8926\n",
      "Epoch 2/200\n",
      "6256/6256 [==============================] - 4s 567us/step - loss: 0.2255 - accuracy: 0.9098 - val_loss: 0.0899 - val_accuracy: 0.9655\n",
      "Epoch 3/200\n",
      "6256/6256 [==============================] - 4s 582us/step - loss: 0.0998 - accuracy: 0.9637 - val_loss: 0.0579 - val_accuracy: 0.9795\n",
      "Epoch 4/200\n",
      "6256/6256 [==============================] - 4s 573us/step - loss: 0.0558 - accuracy: 0.9799 - val_loss: 0.0395 - val_accuracy: 0.9802\n",
      "Epoch 5/200\n",
      "6256/6256 [==============================] - 4s 577us/step - loss: 0.0477 - accuracy: 0.9823 - val_loss: 0.0333 - val_accuracy: 0.9879\n",
      "Epoch 6/200\n",
      "6256/6256 [==============================] - 4s 581us/step - loss: 0.0524 - accuracy: 0.9818 - val_loss: 0.0266 - val_accuracy: 0.9891\n",
      "Epoch 7/200\n",
      "6256/6256 [==============================] - 4s 577us/step - loss: 0.0299 - accuracy: 0.9898 - val_loss: 0.0433 - val_accuracy: 0.9815\n",
      "Epoch 8/200\n",
      "6256/6256 [==============================] - 4s 574us/step - loss: 0.0431 - accuracy: 0.9850 - val_loss: 0.0238 - val_accuracy: 0.9904\n",
      "Epoch 9/200\n",
      "6256/6256 [==============================] - 4s 563us/step - loss: 0.0247 - accuracy: 0.9904 - val_loss: 0.0104 - val_accuracy: 0.9949\n",
      "Epoch 10/200\n",
      "6256/6256 [==============================] - 4s 586us/step - loss: 0.0218 - accuracy: 0.9914 - val_loss: 0.0355 - val_accuracy: 0.9859\n",
      "Epoch 11/200\n",
      "6256/6256 [==============================] - 4s 577us/step - loss: 0.0181 - accuracy: 0.9939 - val_loss: 0.0405 - val_accuracy: 0.9872\n",
      "Epoch 12/200\n",
      "6256/6256 [==============================] - 4s 578us/step - loss: 0.0200 - accuracy: 0.9907 - val_loss: 0.0279 - val_accuracy: 0.9898\n",
      "Epoch 13/200\n",
      "6256/6256 [==============================] - 4s 579us/step - loss: 0.0209 - accuracy: 0.9909 - val_loss: 0.0125 - val_accuracy: 0.9942\n",
      "Epoch 14/200\n",
      "6256/6256 [==============================] - 4s 581us/step - loss: 0.0135 - accuracy: 0.9947 - val_loss: 0.0148 - val_accuracy: 0.9936\n",
      "Epoch 15/200\n",
      "6256/6256 [==============================] - 4s 581us/step - loss: 0.0130 - accuracy: 0.9933 - val_loss: 0.0278 - val_accuracy: 0.9923\n",
      "Epoch 16/200\n",
      "6256/6256 [==============================] - 4s 580us/step - loss: 0.0152 - accuracy: 0.9939 - val_loss: 0.0200 - val_accuracy: 0.9923\n",
      "Epoch 17/200\n",
      "6256/6256 [==============================] - 4s 579us/step - loss: 0.0165 - accuracy: 0.9928 - val_loss: 0.0216 - val_accuracy: 0.9910\n",
      "Epoch 18/200\n",
      "6256/6256 [==============================] - 4s 580us/step - loss: 0.0167 - accuracy: 0.9925 - val_loss: 0.0177 - val_accuracy: 0.9930\n",
      "Epoch 19/200\n",
      "6256/6256 [==============================] - 4s 582us/step - loss: 0.0154 - accuracy: 0.9930 - val_loss: 0.0225 - val_accuracy: 0.9923\n",
      "Epoch 20/200\n",
      "6256/6256 [==============================] - 4s 580us/step - loss: 0.0142 - accuracy: 0.9933 - val_loss: 0.0182 - val_accuracy: 0.9930\n",
      "Epoch 21/200\n",
      "6256/6256 [==============================] - 4s 582us/step - loss: 0.0121 - accuracy: 0.9946 - val_loss: 0.0246 - val_accuracy: 0.9910\n",
      "Epoch 22/200\n",
      "6256/6256 [==============================] - 4s 580us/step - loss: 0.0128 - accuracy: 0.9954 - val_loss: 0.0184 - val_accuracy: 0.9936\n",
      "Epoch 23/200\n",
      "6256/6256 [==============================] - 4s 583us/step - loss: 0.0075 - accuracy: 0.9971 - val_loss: 0.0114 - val_accuracy: 0.9949\n",
      "Epoch 24/200\n",
      "6256/6256 [==============================] - 4s 587us/step - loss: 0.0062 - accuracy: 0.9960 - val_loss: 0.0189 - val_accuracy: 0.9930\n",
      "Epoch 25/200\n",
      "6256/6256 [==============================] - 4s 592us/step - loss: 0.0078 - accuracy: 0.9954 - val_loss: 0.0788 - val_accuracy: 0.9776\n",
      "Epoch 26/200\n",
      "6256/6256 [==============================] - 4s 589us/step - loss: 0.0274 - accuracy: 0.9902 - val_loss: 0.0162 - val_accuracy: 0.9949\n",
      "Epoch 27/200\n",
      "6256/6256 [==============================] - 4s 582us/step - loss: 0.0111 - accuracy: 0.9936 - val_loss: 0.0195 - val_accuracy: 0.9936\n",
      "Epoch 28/200\n",
      "6256/6256 [==============================] - 4s 581us/step - loss: 0.0091 - accuracy: 0.9952 - val_loss: 0.0174 - val_accuracy: 0.9936\n",
      "Epoch 29/200\n",
      "6256/6256 [==============================] - 4s 581us/step - loss: 0.0060 - accuracy: 0.9960 - val_loss: 0.0219 - val_accuracy: 0.9936\n",
      "Epoch 30/200\n",
      "6256/6256 [==============================] - 4s 581us/step - loss: 0.0074 - accuracy: 0.9950 - val_loss: 0.0272 - val_accuracy: 0.9917\n",
      "Epoch 31/200\n",
      "6256/6256 [==============================] - 4s 580us/step - loss: 0.0233 - accuracy: 0.9907 - val_loss: 0.0361 - val_accuracy: 0.9872\n",
      "Epoch 32/200\n",
      "6256/6256 [==============================] - 4s 581us/step - loss: 0.0125 - accuracy: 0.9941 - val_loss: 0.0408 - val_accuracy: 0.9879\n",
      "Epoch 33/200\n",
      "6256/6256 [==============================] - 4s 581us/step - loss: 0.0189 - accuracy: 0.9926 - val_loss: 0.0193 - val_accuracy: 0.9917\n",
      "Epoch 34/200\n",
      "6256/6256 [==============================] - 4s 581us/step - loss: 0.0096 - accuracy: 0.9946 - val_loss: 0.0308 - val_accuracy: 0.9904\n",
      "Epoch 35/200\n",
      "6256/6256 [==============================] - 4s 582us/step - loss: 0.0119 - accuracy: 0.9946 - val_loss: 0.0371 - val_accuracy: 0.9898\n",
      "Epoch 36/200\n",
      "6256/6256 [==============================] - 4s 579us/step - loss: 0.0088 - accuracy: 0.9950 - val_loss: 0.0433 - val_accuracy: 0.9872\n",
      "Epoch 37/200\n",
      "6256/6256 [==============================] - 4s 582us/step - loss: 0.0136 - accuracy: 0.9958 - val_loss: 0.0193 - val_accuracy: 0.9917\n",
      "Epoch 38/200\n",
      "6256/6256 [==============================] - 4s 581us/step - loss: 0.0078 - accuracy: 0.9965 - val_loss: 0.0154 - val_accuracy: 0.9898\n",
      "Epoch 39/200\n",
      "6256/6256 [==============================] - 4s 580us/step - loss: 0.0089 - accuracy: 0.9952 - val_loss: 0.0261 - val_accuracy: 0.9923\n",
      "Epoch 40/200\n",
      "6256/6256 [==============================] - 4s 582us/step - loss: 0.0078 - accuracy: 0.9958 - val_loss: 0.0160 - val_accuracy: 0.9930\n",
      "Epoch 41/200\n",
      "6256/6256 [==============================] - 4s 581us/step - loss: 0.0095 - accuracy: 0.9954 - val_loss: 0.0201 - val_accuracy: 0.9904\n",
      "Epoch 42/200\n",
      "6256/6256 [==============================] - 4s 582us/step - loss: 0.0085 - accuracy: 0.9957 - val_loss: 0.0216 - val_accuracy: 0.9923\n",
      "Epoch 43/200\n",
      "6256/6256 [==============================] - 4s 581us/step - loss: 0.0079 - accuracy: 0.9957 - val_loss: 0.0172 - val_accuracy: 0.9949\n",
      "Epoch 44/200\n",
      "6256/6256 [==============================] - 4s 573us/step - loss: 0.0078 - accuracy: 0.9954 - val_loss: 0.0137 - val_accuracy: 0.9936\n",
      "Epoch 45/200\n",
      "6256/6256 [==============================] - 4s 582us/step - loss: 0.0095 - accuracy: 0.9954 - val_loss: 0.0255 - val_accuracy: 0.9904\n",
      "Epoch 46/200\n",
      "6256/6256 [==============================] - 4s 581us/step - loss: 0.0122 - accuracy: 0.9946 - val_loss: 0.0185 - val_accuracy: 0.9910\n",
      "Epoch 47/200\n",
      "6256/6256 [==============================] - 4s 583us/step - loss: 0.0292 - accuracy: 0.9893 - val_loss: 0.0237 - val_accuracy: 0.9917\n",
      "Epoch 48/200\n",
      "6256/6256 [==============================] - 4s 582us/step - loss: 0.0096 - accuracy: 0.9960 - val_loss: 0.0311 - val_accuracy: 0.9891\n",
      "Epoch 49/200\n",
      "6256/6256 [==============================] - 4s 582us/step - loss: 0.0090 - accuracy: 0.9950 - val_loss: 0.0173 - val_accuracy: 0.9923\n",
      "Epoch 50/200\n",
      "6256/6256 [==============================] - 4s 580us/step - loss: 0.0067 - accuracy: 0.9958 - val_loss: 0.0185 - val_accuracy: 0.9923\n",
      "Epoch 51/200\n",
      "6256/6256 [==============================] - 4s 583us/step - loss: 0.0083 - accuracy: 0.9958 - val_loss: 0.0292 - val_accuracy: 0.9891\n",
      "Epoch 52/200\n",
      "6256/6256 [==============================] - 4s 582us/step - loss: 0.0062 - accuracy: 0.9973 - val_loss: 0.0185 - val_accuracy: 0.9936\n",
      "Epoch 53/200\n",
      "6256/6256 [==============================] - 4s 581us/step - loss: 0.0149 - accuracy: 0.9938 - val_loss: 0.0191 - val_accuracy: 0.9910\n",
      "Epoch 54/200\n",
      "6256/6256 [==============================] - 4s 581us/step - loss: 0.0094 - accuracy: 0.9950 - val_loss: 0.0240 - val_accuracy: 0.9904\n",
      "Epoch 55/200\n",
      "6256/6256 [==============================] - 4s 582us/step - loss: 0.0067 - accuracy: 0.9968 - val_loss: 0.0130 - val_accuracy: 0.9936\n",
      "Epoch 56/200\n",
      "6256/6256 [==============================] - 4s 583us/step - loss: 0.0056 - accuracy: 0.9963 - val_loss: 0.0131 - val_accuracy: 0.9949\n",
      "Epoch 57/200\n",
      "6256/6256 [==============================] - 4s 583us/step - loss: 0.0050 - accuracy: 0.9970 - val_loss: 0.0150 - val_accuracy: 0.9949\n",
      "Epoch 58/200\n",
      "6256/6256 [==============================] - 4s 583us/step - loss: 0.0054 - accuracy: 0.9960 - val_loss: 0.0172 - val_accuracy: 0.9942\n",
      "Epoch 59/200\n",
      "6256/6256 [==============================] - 4s 581us/step - loss: 0.0043 - accuracy: 0.9965 - val_loss: 0.0147 - val_accuracy: 0.9955\n",
      "Epoch 60/200\n",
      "6256/6256 [==============================] - 4s 583us/step - loss: 0.0047 - accuracy: 0.9966 - val_loss: 0.0220 - val_accuracy: 0.9923\n",
      "Epoch 61/200\n",
      "6256/6256 [==============================] - 4s 577us/step - loss: 0.0045 - accuracy: 0.9973 - val_loss: 0.0200 - val_accuracy: 0.9936\n",
      "Epoch 62/200\n",
      "6256/6256 [==============================] - 4s 581us/step - loss: 0.0047 - accuracy: 0.9968 - val_loss: 0.0207 - val_accuracy: 0.9923\n",
      "Epoch 63/200\n",
      "6256/6256 [==============================] - 4s 579us/step - loss: 0.0046 - accuracy: 0.9968 - val_loss: 0.0162 - val_accuracy: 0.9949\n",
      "Epoch 64/200\n",
      "6256/6256 [==============================] - 4s 581us/step - loss: 0.0063 - accuracy: 0.9960 - val_loss: 0.0295 - val_accuracy: 0.9936\n",
      "Epoch 65/200\n",
      "6256/6256 [==============================] - 4s 581us/step - loss: 0.0156 - accuracy: 0.9941 - val_loss: 0.0166 - val_accuracy: 0.9942\n",
      "Epoch 66/200\n",
      "6256/6256 [==============================] - 4s 581us/step - loss: 0.0110 - accuracy: 0.9946 - val_loss: 0.0200 - val_accuracy: 0.9936\n",
      "Epoch 67/200\n",
      "6256/6256 [==============================] - 4s 582us/step - loss: 0.0169 - accuracy: 0.9930 - val_loss: 0.0310 - val_accuracy: 0.9866\n",
      "Epoch 68/200\n",
      "6256/6256 [==============================] - 4s 590us/step - loss: 0.0096 - accuracy: 0.9946 - val_loss: 0.0360 - val_accuracy: 0.9853\n",
      "Epoch 69/200\n",
      "6256/6256 [==============================] - 4s 582us/step - loss: 0.0076 - accuracy: 0.9962 - val_loss: 0.0321 - val_accuracy: 0.9898\n",
      "Epoch 70/200\n",
      "6256/6256 [==============================] - 4s 578us/step - loss: 0.0070 - accuracy: 0.9963 - val_loss: 0.0206 - val_accuracy: 0.9936\n",
      "Epoch 71/200\n",
      "6256/6256 [==============================] - 4s 583us/step - loss: 0.0068 - accuracy: 0.9957 - val_loss: 0.0358 - val_accuracy: 0.9923\n",
      "Epoch 72/200\n",
      "6256/6256 [==============================] - 4s 579us/step - loss: 0.0048 - accuracy: 0.9978 - val_loss: 0.0422 - val_accuracy: 0.9866\n",
      "Epoch 73/200\n",
      "6256/6256 [==============================] - 4s 579us/step - loss: 0.0049 - accuracy: 0.9970 - val_loss: 0.0399 - val_accuracy: 0.9917\n",
      "Epoch 74/200\n",
      "6256/6256 [==============================] - 4s 581us/step - loss: 0.0097 - accuracy: 0.9960 - val_loss: 0.0243 - val_accuracy: 0.9923\n",
      "Epoch 75/200\n",
      "6256/6256 [==============================] - 4s 582us/step - loss: 0.0099 - accuracy: 0.9942 - val_loss: 0.0225 - val_accuracy: 0.9942\n",
      "Epoch 76/200\n",
      "6256/6256 [==============================] - 4s 581us/step - loss: 0.0229 - accuracy: 0.9918 - val_loss: 0.0816 - val_accuracy: 0.9687\n",
      "Epoch 77/200\n",
      "6256/6256 [==============================] - 4s 579us/step - loss: 0.0234 - accuracy: 0.9926 - val_loss: 0.0133 - val_accuracy: 0.9936\n",
      "Epoch 78/200\n",
      "6256/6256 [==============================] - 4s 582us/step - loss: 0.0066 - accuracy: 0.9963 - val_loss: 0.0303 - val_accuracy: 0.9898\n",
      "Epoch 79/200\n",
      "6256/6256 [==============================] - 4s 580us/step - loss: 0.0129 - accuracy: 0.9950 - val_loss: 0.0208 - val_accuracy: 0.9904\n",
      "Epoch 80/200\n",
      "6256/6256 [==============================] - 4s 581us/step - loss: 0.0105 - accuracy: 0.9973 - val_loss: 0.0140 - val_accuracy: 0.9942\n",
      "Epoch 81/200\n",
      "6256/6256 [==============================] - 4s 580us/step - loss: 0.0085 - accuracy: 0.9962 - val_loss: 0.0196 - val_accuracy: 0.9936\n",
      "Epoch 82/200\n",
      "6256/6256 [==============================] - 4s 582us/step - loss: 0.0166 - accuracy: 0.9934 - val_loss: 0.0176 - val_accuracy: 0.9923\n",
      "Epoch 83/200\n",
      "6256/6256 [==============================] - 4s 579us/step - loss: 0.0085 - accuracy: 0.9962 - val_loss: 0.0146 - val_accuracy: 0.9942\n",
      "Epoch 84/200\n",
      "6256/6256 [==============================] - 4s 581us/step - loss: 0.0056 - accuracy: 0.9960 - val_loss: 0.0290 - val_accuracy: 0.9910\n",
      "Epoch 85/200\n",
      "6256/6256 [==============================] - 4s 583us/step - loss: 0.0051 - accuracy: 0.9960 - val_loss: 0.0218 - val_accuracy: 0.9942\n",
      "Epoch 86/200\n",
      "6256/6256 [==============================] - 4s 583us/step - loss: 0.0052 - accuracy: 0.9960 - val_loss: 0.0239 - val_accuracy: 0.9917\n",
      "Epoch 87/200\n",
      "6256/6256 [==============================] - 4s 582us/step - loss: 0.0120 - accuracy: 0.9954 - val_loss: 0.0155 - val_accuracy: 0.9923\n",
      "Epoch 88/200\n",
      "6256/6256 [==============================] - 4s 581us/step - loss: 0.0154 - accuracy: 0.9931 - val_loss: 0.0225 - val_accuracy: 0.9904\n",
      "Epoch 89/200\n",
      "6256/6256 [==============================] - 4s 581us/step - loss: 0.0090 - accuracy: 0.9949 - val_loss: 0.0133 - val_accuracy: 0.9930\n",
      "Epoch 90/200\n",
      "6256/6256 [==============================] - 4s 582us/step - loss: 0.0108 - accuracy: 0.9947 - val_loss: 0.0186 - val_accuracy: 0.9936\n",
      "Epoch 91/200\n",
      "6256/6256 [==============================] - 4s 580us/step - loss: 0.0127 - accuracy: 0.9954 - val_loss: 0.0172 - val_accuracy: 0.9942\n",
      "Epoch 92/200\n",
      "6256/6256 [==============================] - 4s 581us/step - loss: 0.0137 - accuracy: 0.9942 - val_loss: 0.0159 - val_accuracy: 0.9910\n",
      "Epoch 93/200\n",
      "6256/6256 [==============================] - 4s 582us/step - loss: 0.0075 - accuracy: 0.9952 - val_loss: 0.0139 - val_accuracy: 0.9942\n",
      "Epoch 94/200\n",
      "6256/6256 [==============================] - 4s 582us/step - loss: 0.0055 - accuracy: 0.9970 - val_loss: 0.0151 - val_accuracy: 0.9955\n",
      "Epoch 95/200\n",
      "6256/6256 [==============================] - 4s 581us/step - loss: 0.0056 - accuracy: 0.9966 - val_loss: 0.0142 - val_accuracy: 0.9936\n",
      "Epoch 96/200\n",
      "6256/6256 [==============================] - 4s 581us/step - loss: 0.0062 - accuracy: 0.9971 - val_loss: 0.0178 - val_accuracy: 0.9968\n",
      "Epoch 97/200\n",
      "6256/6256 [==============================] - 4s 580us/step - loss: 0.0054 - accuracy: 0.9963 - val_loss: 0.0154 - val_accuracy: 0.9962\n",
      "Epoch 98/200\n",
      "6256/6256 [==============================] - 4s 581us/step - loss: 0.0160 - accuracy: 0.9944 - val_loss: 0.0132 - val_accuracy: 0.9942\n",
      "Epoch 99/200\n",
      "6256/6256 [==============================] - 4s 581us/step - loss: 0.0067 - accuracy: 0.9962 - val_loss: 0.0163 - val_accuracy: 0.9930\n",
      "Epoch 100/200\n",
      "6256/6256 [==============================] - 4s 583us/step - loss: 0.0073 - accuracy: 0.9954 - val_loss: 0.0169 - val_accuracy: 0.9910\n",
      "Epoch 101/200\n",
      "6256/6256 [==============================] - 4s 581us/step - loss: 0.0053 - accuracy: 0.9971 - val_loss: 0.0134 - val_accuracy: 0.9936\n",
      "Epoch 102/200\n",
      "6256/6256 [==============================] - 4s 584us/step - loss: 0.0062 - accuracy: 0.9962 - val_loss: 0.0380 - val_accuracy: 0.9949\n",
      "Epoch 103/200\n",
      "6256/6256 [==============================] - 4s 583us/step - loss: 0.0089 - accuracy: 0.9960 - val_loss: 0.0123 - val_accuracy: 0.9955\n",
      "Epoch 104/200\n",
      "6256/6256 [==============================] - 4s 581us/step - loss: 0.0062 - accuracy: 0.9958 - val_loss: 0.0158 - val_accuracy: 0.9930\n",
      "Epoch 105/200\n",
      "6256/6256 [==============================] - 4s 582us/step - loss: 0.0072 - accuracy: 0.9963 - val_loss: 0.0105 - val_accuracy: 0.9942\n",
      "Epoch 106/200\n",
      "6256/6256 [==============================] - 4s 581us/step - loss: 0.0052 - accuracy: 0.9965 - val_loss: 0.0195 - val_accuracy: 0.9923\n",
      "Epoch 107/200\n",
      "6256/6256 [==============================] - 4s 582us/step - loss: 0.0075 - accuracy: 0.9965 - val_loss: 0.0161 - val_accuracy: 0.9955\n",
      "Epoch 108/200\n",
      "6256/6256 [==============================] - 4s 582us/step - loss: 0.0129 - accuracy: 0.9960 - val_loss: 0.0368 - val_accuracy: 0.9917\n",
      "Epoch 109/200\n",
      "6256/6256 [==============================] - 4s 585us/step - loss: 0.0101 - accuracy: 0.9952 - val_loss: 0.0100 - val_accuracy: 0.9949\n",
      "Epoch 110/200\n",
      "6256/6256 [==============================] - 4s 588us/step - loss: 0.0115 - accuracy: 0.9965 - val_loss: 0.0287 - val_accuracy: 0.9879\n",
      "Epoch 111/200\n",
      "6256/6256 [==============================] - 4s 577us/step - loss: 0.0168 - accuracy: 0.9939 - val_loss: 0.0233 - val_accuracy: 0.9917\n",
      "Epoch 112/200\n",
      "6256/6256 [==============================] - 4s 579us/step - loss: 0.0113 - accuracy: 0.9955 - val_loss: 0.0159 - val_accuracy: 0.9936\n",
      "Epoch 113/200\n",
      "6256/6256 [==============================] - 4s 591us/step - loss: 0.0139 - accuracy: 0.9950 - val_loss: 0.0233 - val_accuracy: 0.9949\n",
      "Epoch 114/200\n",
      "6256/6256 [==============================] - 4s 579us/step - loss: 0.0081 - accuracy: 0.9957 - val_loss: 0.0220 - val_accuracy: 0.9942\n",
      "Epoch 115/200\n",
      "6256/6256 [==============================] - 4s 578us/step - loss: 0.0066 - accuracy: 0.9954 - val_loss: 0.0306 - val_accuracy: 0.9917\n",
      "Epoch 116/200\n",
      "6256/6256 [==============================] - 4s 579us/step - loss: 0.0071 - accuracy: 0.9962 - val_loss: 0.0374 - val_accuracy: 0.9923\n",
      "Epoch 117/200\n",
      "6256/6256 [==============================] - 4s 575us/step - loss: 0.0133 - accuracy: 0.9938 - val_loss: 0.0227 - val_accuracy: 0.9942\n",
      "Epoch 118/200\n",
      "6256/6256 [==============================] - 4s 577us/step - loss: 0.0066 - accuracy: 0.9962 - val_loss: 0.0251 - val_accuracy: 0.9930\n",
      "Epoch 119/200\n",
      "6256/6256 [==============================] - 4s 578us/step - loss: 0.0045 - accuracy: 0.9971 - val_loss: 0.0261 - val_accuracy: 0.9930\n",
      "Epoch 120/200\n",
      "6256/6256 [==============================] - 4s 577us/step - loss: 0.0042 - accuracy: 0.9974 - val_loss: 0.0287 - val_accuracy: 0.9930\n",
      "Epoch 121/200\n",
      "6256/6256 [==============================] - 4s 576us/step - loss: 0.0049 - accuracy: 0.9960 - val_loss: 0.0233 - val_accuracy: 0.9942\n",
      "Epoch 122/200\n",
      "6256/6256 [==============================] - 4s 578us/step - loss: 0.0047 - accuracy: 0.9973 - val_loss: 0.0288 - val_accuracy: 0.9930\n",
      "Epoch 123/200\n",
      "6256/6256 [==============================] - 4s 577us/step - loss: 0.0053 - accuracy: 0.9963 - val_loss: 0.0247 - val_accuracy: 0.9955\n",
      "Epoch 124/200\n",
      "6256/6256 [==============================] - 4s 578us/step - loss: 0.0043 - accuracy: 0.9971 - val_loss: 0.0248 - val_accuracy: 0.9955\n",
      "Epoch 125/200\n",
      "6256/6256 [==============================] - 4s 577us/step - loss: 0.0043 - accuracy: 0.9966 - val_loss: 0.0237 - val_accuracy: 0.9955\n",
      "Epoch 126/200\n",
      "6256/6256 [==============================] - 4s 576us/step - loss: 0.0041 - accuracy: 0.9971 - val_loss: 0.0257 - val_accuracy: 0.9955\n",
      "Epoch 127/200\n",
      "6256/6256 [==============================] - 4s 577us/step - loss: 0.0042 - accuracy: 0.9973 - val_loss: 0.0282 - val_accuracy: 0.9955\n",
      "Epoch 128/200\n",
      "6256/6256 [==============================] - 4s 577us/step - loss: 0.0069 - accuracy: 0.9970 - val_loss: 0.0294 - val_accuracy: 0.9904\n",
      "Epoch 129/200\n",
      "6256/6256 [==============================] - 4s 579us/step - loss: 0.0059 - accuracy: 0.9966 - val_loss: 0.0375 - val_accuracy: 0.9955\n",
      "Epoch 130/200\n",
      "6256/6256 [==============================] - 4s 575us/step - loss: 0.0079 - accuracy: 0.9955 - val_loss: 0.0510 - val_accuracy: 0.9930\n",
      "Epoch 131/200\n",
      "6256/6256 [==============================] - 4s 578us/step - loss: 0.0163 - accuracy: 0.9930 - val_loss: 0.0334 - val_accuracy: 0.9904\n",
      "Epoch 132/200\n",
      "6256/6256 [==============================] - 4s 577us/step - loss: 0.0208 - accuracy: 0.9942 - val_loss: 0.0295 - val_accuracy: 0.9930\n",
      "Epoch 133/200\n",
      "6256/6256 [==============================] - 4s 581us/step - loss: 0.0176 - accuracy: 0.9946 - val_loss: 0.0284 - val_accuracy: 0.9904\n",
      "Epoch 134/200\n",
      "6256/6256 [==============================] - 4s 578us/step - loss: 0.0109 - accuracy: 0.9946 - val_loss: 0.0168 - val_accuracy: 0.9930\n",
      "Epoch 135/200\n",
      "6256/6256 [==============================] - 4s 580us/step - loss: 0.0122 - accuracy: 0.9963 - val_loss: 0.0149 - val_accuracy: 0.9942\n",
      "Epoch 136/200\n",
      "6256/6256 [==============================] - 4s 580us/step - loss: 0.0106 - accuracy: 0.9957 - val_loss: 0.0203 - val_accuracy: 0.9936\n",
      "Epoch 137/200\n",
      "6256/6256 [==============================] - 4s 577us/step - loss: 0.0056 - accuracy: 0.9970 - val_loss: 0.0233 - val_accuracy: 0.9949\n",
      "Epoch 138/200\n",
      "6256/6256 [==============================] - 4s 575us/step - loss: 0.0051 - accuracy: 0.9966 - val_loss: 0.0230 - val_accuracy: 0.9949\n",
      "Epoch 139/200\n",
      "6256/6256 [==============================] - 4s 578us/step - loss: 0.0044 - accuracy: 0.9962 - val_loss: 0.0246 - val_accuracy: 0.9942\n",
      "Epoch 140/200\n",
      "6256/6256 [==============================] - 4s 579us/step - loss: 0.0045 - accuracy: 0.9971 - val_loss: 0.0243 - val_accuracy: 0.9942\n",
      "Epoch 141/200\n",
      "6256/6256 [==============================] - 4s 576us/step - loss: 0.0110 - accuracy: 0.9958 - val_loss: 0.0225 - val_accuracy: 0.9942\n",
      "Epoch 142/200\n",
      "6256/6256 [==============================] - 4s 579us/step - loss: 0.0076 - accuracy: 0.9957 - val_loss: 0.0298 - val_accuracy: 0.9942\n",
      "Epoch 143/200\n",
      "6256/6256 [==============================] - 4s 578us/step - loss: 0.0101 - accuracy: 0.9954 - val_loss: 0.0273 - val_accuracy: 0.9904\n",
      "Epoch 144/200\n",
      "6256/6256 [==============================] - 4s 577us/step - loss: 0.0091 - accuracy: 0.9954 - val_loss: 0.0150 - val_accuracy: 0.9949\n",
      "Epoch 145/200\n",
      "6256/6256 [==============================] - 4s 576us/step - loss: 0.0057 - accuracy: 0.9965 - val_loss: 0.0242 - val_accuracy: 0.9936\n",
      "Epoch 146/200\n",
      "6256/6256 [==============================] - 4s 577us/step - loss: 0.0048 - accuracy: 0.9970 - val_loss: 0.0316 - val_accuracy: 0.9949\n",
      "Epoch 147/200\n",
      "6256/6256 [==============================] - 4s 577us/step - loss: 0.0088 - accuracy: 0.9963 - val_loss: 0.0321 - val_accuracy: 0.9917\n",
      "Epoch 148/200\n",
      "6256/6256 [==============================] - 4s 577us/step - loss: 0.0046 - accuracy: 0.9970 - val_loss: 0.0280 - val_accuracy: 0.9936\n",
      "Epoch 149/200\n",
      "6256/6256 [==============================] - 4s 580us/step - loss: 0.0046 - accuracy: 0.9965 - val_loss: 0.0244 - val_accuracy: 0.9942\n",
      "Epoch 150/200\n",
      "6256/6256 [==============================] - 4s 578us/step - loss: 0.0042 - accuracy: 0.9968 - val_loss: 0.0319 - val_accuracy: 0.9930\n",
      "Epoch 151/200\n",
      "6256/6256 [==============================] - 4s 587us/step - loss: 0.0046 - accuracy: 0.9974 - val_loss: 0.0922 - val_accuracy: 0.9853\n",
      "Epoch 152/200\n",
      "6256/6256 [==============================] - 4s 577us/step - loss: 0.0045 - accuracy: 0.9973 - val_loss: 0.0301 - val_accuracy: 0.9942\n",
      "Epoch 153/200\n",
      "6256/6256 [==============================] - 4s 578us/step - loss: 0.0105 - accuracy: 0.9960 - val_loss: 0.0309 - val_accuracy: 0.9917\n",
      "Epoch 154/200\n",
      "6256/6256 [==============================] - 4s 576us/step - loss: 0.0147 - accuracy: 0.9942 - val_loss: 0.0186 - val_accuracy: 0.9917\n",
      "Epoch 155/200\n",
      "6256/6256 [==============================] - 4s 578us/step - loss: 0.0064 - accuracy: 0.9963 - val_loss: 0.0254 - val_accuracy: 0.9936\n",
      "Epoch 156/200\n",
      "6256/6256 [==============================] - 4s 576us/step - loss: 0.0103 - accuracy: 0.9958 - val_loss: 0.0245 - val_accuracy: 0.9942\n",
      "Epoch 157/200\n",
      "6256/6256 [==============================] - 4s 575us/step - loss: 0.0123 - accuracy: 0.9955 - val_loss: 0.0797 - val_accuracy: 0.9802\n",
      "Epoch 158/200\n",
      "6256/6256 [==============================] - 4s 578us/step - loss: 0.0078 - accuracy: 0.9957 - val_loss: 0.0227 - val_accuracy: 0.9891\n",
      "Epoch 159/200\n",
      "6256/6256 [==============================] - 4s 576us/step - loss: 0.0061 - accuracy: 0.9966 - val_loss: 0.0178 - val_accuracy: 0.9949\n",
      "Epoch 160/200\n",
      "6256/6256 [==============================] - 4s 578us/step - loss: 0.0058 - accuracy: 0.9968 - val_loss: 0.0288 - val_accuracy: 0.9955\n",
      "Epoch 161/200\n",
      "6256/6256 [==============================] - 4s 577us/step - loss: 0.0045 - accuracy: 0.9973 - val_loss: 0.0212 - val_accuracy: 0.9955\n",
      "Epoch 162/200\n",
      "6256/6256 [==============================] - 4s 579us/step - loss: 0.0049 - accuracy: 0.9970 - val_loss: 0.0180 - val_accuracy: 0.9955\n",
      "Epoch 163/200\n",
      "6256/6256 [==============================] - 4s 577us/step - loss: 0.0088 - accuracy: 0.9968 - val_loss: 0.0205 - val_accuracy: 0.9942\n",
      "Epoch 164/200\n",
      "6256/6256 [==============================] - 4s 579us/step - loss: 0.0054 - accuracy: 0.9966 - val_loss: 0.0378 - val_accuracy: 0.9936\n",
      "Epoch 165/200\n",
      "6256/6256 [==============================] - 4s 576us/step - loss: 0.0062 - accuracy: 0.9971 - val_loss: 0.0701 - val_accuracy: 0.9923\n",
      "Epoch 166/200\n",
      "6256/6256 [==============================] - 4s 578us/step - loss: 0.0168 - accuracy: 0.9946 - val_loss: 0.0270 - val_accuracy: 0.9904\n",
      "Epoch 167/200\n",
      "6256/6256 [==============================] - 4s 577us/step - loss: 0.0208 - accuracy: 0.9936 - val_loss: 0.0156 - val_accuracy: 0.9936\n",
      "Epoch 168/200\n",
      "6256/6256 [==============================] - 4s 575us/step - loss: 0.0102 - accuracy: 0.9952 - val_loss: 0.0393 - val_accuracy: 0.9904\n",
      "Epoch 169/200\n",
      "6256/6256 [==============================] - 4s 579us/step - loss: 0.0191 - accuracy: 0.9941 - val_loss: 0.0308 - val_accuracy: 0.9891\n",
      "Epoch 170/200\n",
      "6256/6256 [==============================] - 4s 576us/step - loss: 0.0129 - accuracy: 0.9941 - val_loss: 0.0378 - val_accuracy: 0.9904\n",
      "Epoch 171/200\n",
      "6256/6256 [==============================] - 4s 576us/step - loss: 0.0127 - accuracy: 0.9944 - val_loss: 0.0208 - val_accuracy: 0.9910\n",
      "Epoch 172/200\n",
      "6256/6256 [==============================] - 4s 575us/step - loss: 0.0101 - accuracy: 0.9960 - val_loss: 0.0220 - val_accuracy: 0.9904\n",
      "Epoch 173/200\n",
      "6256/6256 [==============================] - 4s 574us/step - loss: 0.0050 - accuracy: 0.9968 - val_loss: 0.0221 - val_accuracy: 0.9949\n",
      "Epoch 174/200\n",
      "6256/6256 [==============================] - 4s 576us/step - loss: 0.0048 - accuracy: 0.9970 - val_loss: 0.0188 - val_accuracy: 0.9942\n",
      "Epoch 175/200\n",
      "6256/6256 [==============================] - 4s 576us/step - loss: 0.0045 - accuracy: 0.9974 - val_loss: 0.0224 - val_accuracy: 0.9930\n",
      "Epoch 176/200\n",
      "6256/6256 [==============================] - 4s 578us/step - loss: 0.0049 - accuracy: 0.9968 - val_loss: 0.0243 - val_accuracy: 0.9942\n",
      "Epoch 177/200\n",
      "6256/6256 [==============================] - 4s 575us/step - loss: 0.0043 - accuracy: 0.9970 - val_loss: 0.0231 - val_accuracy: 0.9936\n",
      "Epoch 178/200\n",
      "6256/6256 [==============================] - 4s 576us/step - loss: 0.0042 - accuracy: 0.9968 - val_loss: 0.0231 - val_accuracy: 0.9936\n",
      "Epoch 179/200\n",
      "6256/6256 [==============================] - 4s 574us/step - loss: 0.0044 - accuracy: 0.9973 - val_loss: 0.0220 - val_accuracy: 0.9936\n",
      "Epoch 180/200\n",
      "6256/6256 [==============================] - 4s 577us/step - loss: 0.0042 - accuracy: 0.9968 - val_loss: 0.0243 - val_accuracy: 0.9942\n",
      "Epoch 181/200\n",
      "6256/6256 [==============================] - 4s 577us/step - loss: 0.0040 - accuracy: 0.9978 - val_loss: 0.0278 - val_accuracy: 0.9949\n",
      "Epoch 182/200\n",
      "6256/6256 [==============================] - 4s 576us/step - loss: 0.0044 - accuracy: 0.9971 - val_loss: 0.0274 - val_accuracy: 0.9949\n",
      "Epoch 183/200\n",
      "6256/6256 [==============================] - 4s 576us/step - loss: 0.0048 - accuracy: 0.9968 - val_loss: 0.0252 - val_accuracy: 0.9942\n",
      "Epoch 184/200\n",
      "6256/6256 [==============================] - 4s 572us/step - loss: 0.0044 - accuracy: 0.9976 - val_loss: 0.0228 - val_accuracy: 0.9949\n",
      "Epoch 185/200\n",
      "6256/6256 [==============================] - 4s 578us/step - loss: 0.0042 - accuracy: 0.9971 - val_loss: 0.0227 - val_accuracy: 0.9949\n",
      "Epoch 186/200\n",
      "6256/6256 [==============================] - 4s 576us/step - loss: 0.0042 - accuracy: 0.9968 - val_loss: 0.0238 - val_accuracy: 0.9949\n",
      "Epoch 187/200\n",
      "6256/6256 [==============================] - 4s 576us/step - loss: 0.0046 - accuracy: 0.9971 - val_loss: 0.0284 - val_accuracy: 0.9936\n",
      "Epoch 188/200\n",
      "6256/6256 [==============================] - 4s 574us/step - loss: 0.0062 - accuracy: 0.9968 - val_loss: 0.0195 - val_accuracy: 0.9955\n",
      "Epoch 189/200\n",
      "6256/6256 [==============================] - 4s 575us/step - loss: 0.0043 - accuracy: 0.9971 - val_loss: 0.0245 - val_accuracy: 0.9930\n",
      "Epoch 190/200\n",
      "6256/6256 [==============================] - 4s 577us/step - loss: 0.0043 - accuracy: 0.9968 - val_loss: 0.0225 - val_accuracy: 0.9955\n",
      "Epoch 191/200\n",
      "6256/6256 [==============================] - 4s 578us/step - loss: 0.0048 - accuracy: 0.9970 - val_loss: 0.0206 - val_accuracy: 0.9949\n",
      "Epoch 192/200\n",
      "6256/6256 [==============================] - 4s 578us/step - loss: 0.0051 - accuracy: 0.9965 - val_loss: 0.0389 - val_accuracy: 0.9955\n",
      "Epoch 193/200\n",
      "6256/6256 [==============================] - 4s 576us/step - loss: 0.0051 - accuracy: 0.9965 - val_loss: 0.0383 - val_accuracy: 0.9942\n",
      "Epoch 194/200\n",
      "6256/6256 [==============================] - 4s 580us/step - loss: 0.0061 - accuracy: 0.9970 - val_loss: 0.0462 - val_accuracy: 0.9930\n",
      "Epoch 195/200\n",
      "6256/6256 [==============================] - 4s 585us/step - loss: 0.0257 - accuracy: 0.9947 - val_loss: 0.0346 - val_accuracy: 0.9910\n",
      "Epoch 196/200\n",
      "6256/6256 [==============================] - 4s 589us/step - loss: 0.0107 - accuracy: 0.9944 - val_loss: 0.0423 - val_accuracy: 0.9936\n",
      "Epoch 197/200\n",
      "6256/6256 [==============================] - 4s 576us/step - loss: 0.0082 - accuracy: 0.9957 - val_loss: 0.0375 - val_accuracy: 0.9910\n",
      "Epoch 198/200\n",
      "6256/6256 [==============================] - 4s 577us/step - loss: 0.0179 - accuracy: 0.9942 - val_loss: 0.0295 - val_accuracy: 0.9885\n",
      "Epoch 199/200\n",
      "6256/6256 [==============================] - 4s 578us/step - loss: 0.0251 - accuracy: 0.9931 - val_loss: 0.0336 - val_accuracy: 0.9917\n",
      "Epoch 200/200\n",
      "6256/6256 [==============================] - 4s 578us/step - loss: 0.0179 - accuracy: 0.9946 - val_loss: 0.0181 - val_accuracy: 0.9904\n"
     ]
    },
    {
     "data": {
      "text/plain": [
       "<keras.callbacks.callbacks.History at 0x7f4ca04d7b70>"
      ]
     },
     "execution_count": 15,
     "metadata": {
      "tags": []
     },
     "output_type": "execute_result"
    }
   ],
   "source": [
    "# training the model\n",
    "model.fit(X_train, y_train, epochs=200, validation_data=(X_test, y_test), callbacks=[mcp_save], batch_size=128)"
   ]
  },
  {
   "cell_type": "code",
   "execution_count": null,
   "metadata": {
    "colab": {
     "base_uri": "https://localhost:8080/",
     "height": 206
    },
    "id": "OUj6e5ZA3WJ7",
    "outputId": "f3766615-4b07-4d27-e79e-a067502c5a09"
   },
   "outputs": [
    {
     "data": {
      "text/html": [
       "<div>\n",
       "<style scoped>\n",
       "    .dataframe tbody tr th:only-of-type {\n",
       "        vertical-align: middle;\n",
       "    }\n",
       "\n",
       "    .dataframe tbody tr th {\n",
       "        vertical-align: top;\n",
       "    }\n",
       "\n",
       "    .dataframe thead th {\n",
       "        text-align: right;\n",
       "    }\n",
       "</style>\n",
       "<table border=\"1\" class=\"dataframe\">\n",
       "  <thead>\n",
       "    <tr style=\"text-align: right;\">\n",
       "      <th></th>\n",
       "      <th>video_name</th>\n",
       "    </tr>\n",
       "  </thead>\n",
       "  <tbody>\n",
       "    <tr>\n",
       "      <th>0</th>\n",
       "      <td>Child/Child_a08.mp4</td>\n",
       "    </tr>\n",
       "    <tr>\n",
       "      <th>1</th>\n",
       "      <td>Child/Child_a17.mp4</td>\n",
       "    </tr>\n",
       "    <tr>\n",
       "      <th>2</th>\n",
       "      <td>Child/Child_a19.mp4</td>\n",
       "    </tr>\n",
       "    <tr>\n",
       "      <th>3</th>\n",
       "      <td>Child/Child_a23.mp4</td>\n",
       "    </tr>\n",
       "    <tr>\n",
       "      <th>4</th>\n",
       "      <td>Child/Child_a26.mp4</td>\n",
       "    </tr>\n",
       "  </tbody>\n",
       "</table>\n",
       "</div>"
      ],
      "text/plain": [
       "            video_name\n",
       "0  Child/Child_a08.mp4\n",
       "1  Child/Child_a17.mp4\n",
       "2  Child/Child_a19.mp4\n",
       "3  Child/Child_a23.mp4\n",
       "4  Child/Child_a26.mp4"
      ]
     },
     "execution_count": 16,
     "metadata": {
      "tags": []
     },
     "output_type": "execute_result"
    }
   ],
   "source": [
    "# getting the test list\n",
    "f = open(\"test.txt\", \"r\")\n",
    "temp = f.read()\n",
    "videos = temp.split('\\n')\n",
    "\n",
    "# creating the dataframe\n",
    "test = pd.DataFrame()\n",
    "test['video_name'] = videos\n",
    "test = test[:-1]\n",
    "test_videos = test['video_name']\n",
    "test.head()"
   ]
  },
  {
   "cell_type": "code",
   "execution_count": null,
   "metadata": {
    "id": "_aewP1Xz3WOf"
   },
   "outputs": [],
   "source": [
    "# creating the tags\n",
    "train = pd.read_csv('Data/train_new.csv')\n",
    "y = train['class']\n",
    "y = pd.get_dummies(y)"
   ]
  },
  {
   "cell_type": "code",
   "execution_count": null,
   "metadata": {
    "colab": {
     "base_uri": "https://localhost:8080/",
     "height": 35
    },
    "id": "o4mH5LdJ3WNA",
    "outputId": "8d4e75ab-b1ba-42c1-e4a0-2cd5d6bed671"
   },
   "outputs": [
    {
     "name": "stderr",
     "output_type": "stream",
     "text": [
      "100%|██████████| 64/64 [03:23<00:00,  3.18s/it]\n"
     ]
    }
   ],
   "source": [
    "\n",
    "from scipy import stats as s\n",
    "# creating two lists to store predicted and actual tags\n",
    "predict = []\n",
    "actual = []\n",
    "\n",
    "# for loop to extract frames from each test video\n",
    "for i in tqdm(range(test_videos.shape[0])):\n",
    "    count = 0\n",
    "    videoFile = test_videos[i]\n",
    "    cap = cv2.VideoCapture('Data/'+videoFile)   # capturing the video from the given path\n",
    "    frameRate = cap.get(5) #frame rate\n",
    "    x=1\n",
    "    # removing all other files from the temp folder\n",
    "    files = glob('temp/*')\n",
    "    for f in files:\n",
    "        os.remove(f)\n",
    "    while(cap.isOpened()):\n",
    "        frameId = cap.get(1) #current frame number\n",
    "        ret, frame = cap.read()\n",
    "        if (ret != True):\n",
    "            break\n",
    "        if (frameId % 10 == 0):\n",
    "            # storing the frames of this particular video in temp folder\n",
    "            filename ='temp/' + \"_frame%d.jpg\" % count;count+=1\n",
    "            cv2.imwrite(filename, frame)\n",
    "    cap.release()\n",
    "    \n",
    "    # reading all the frames from temp folder\n",
    "    images = glob(\"temp/*.jpg\")\n",
    "    \n",
    "    prediction_images = []\n",
    "    for i in range(len(images)):\n",
    "        img = image.load_img(images[i], target_size=(224,224,3))\n",
    "        img = image.img_to_array(img)\n",
    "        img = img/255.0\n",
    "        prediction_images.append(img)\n",
    "        \n",
    "    # converting all the frames for a test video into numpy array\n",
    "    prediction_images = np.array(prediction_images)\n",
    "    # extracting features using pre-trained model\n",
    "    prediction_images = base_model.predict(prediction_images)\n",
    "    # converting features in one dimensional array\n",
    "    prediction_images = prediction_images.reshape(prediction_images.shape[0], 7*7*2048)\n",
    "    # predicting tags for each array\n",
    "    prediction = model.predict_classes(prediction_images)\n",
    "    # appending the mode of predictions in predict list to assign the tag to the video\n",
    "    predict.append(y.columns.values[s.mode(prediction)[0][0]])\n",
    "    # appending the actual tag of the video\n",
    "    if (videoFile.split('/')[1].split('_')[0] == 'Child'):\n",
    "        actual.append(1)\n",
    "    else:\n",
    "        actual.append(0)\n",
    "    # actual.append(videoFile.split('/')[1].split('_')[1])"
   ]
  },
  {
   "cell_type": "code",
   "execution_count": null,
   "metadata": {
    "colab": {
     "base_uri": "https://localhost:8080/",
     "height": 35
    },
    "id": "V9Nv7-Dw4PK_",
    "outputId": "a5d3251e-1bca-4e9a-e569-33707aef839a"
   },
   "outputs": [
    {
     "data": {
      "text/plain": [
       "96.875"
      ]
     },
     "execution_count": 19,
     "metadata": {
      "tags": []
     },
     "output_type": "execute_result"
    }
   ],
   "source": [
    "# checking the accuracy of the predicted tags\n",
    "from sklearn.metrics import accuracy_score\n",
    "accuracy_score(predict, actual)*100"
   ]
  },
  {
   "cell_type": "code",
   "execution_count": null,
   "metadata": {
    "id": "kh1bnSwK4PJX"
   },
   "outputs": [],
   "source": []
  }
 ],
 "metadata": {
  "accelerator": "GPU",
  "colab": {
   "collapsed_sections": [],
   "machine_shape": "hm",
   "name": "Child_Labour_Final.ipynb",
   "provenance": []
  },
  "kernelspec": {
   "display_name": "Python 3",
   "language": "python",
   "name": "python3"
  },
  "language_info": {
   "codemirror_mode": {
    "name": "ipython",
    "version": 3
   },
   "file_extension": ".py",
   "mimetype": "text/x-python",
   "name": "python",
   "nbconvert_exporter": "python",
   "pygments_lexer": "ipython3",
   "version": "3.8.8"
  }
 },
 "nbformat": 4,
 "nbformat_minor": 1
}
